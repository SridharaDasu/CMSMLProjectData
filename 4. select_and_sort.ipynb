{
 "cells": [
  {
   "cell_type": "markdown",
   "metadata": {},
   "source": [
    "### Implement selection and sorting of electrons"
   ]
  },
  {
   "cell_type": "code",
   "execution_count": 1,
   "metadata": {},
   "outputs": [],
   "source": [
    "# Importing necessary libraries\n",
    "import pandas as pd\n",
    "import matplotlib.pyplot as plt\n",
    "import numpy as np\n",
    "import seaborn as sns\n",
    "# %matplotlib inline"
   ]
  },
  {
   "cell_type": "code",
   "execution_count": 2,
   "metadata": {},
   "outputs": [],
   "source": [
    "import skimage.measure\n",
    "from skimage.util import view_as_blocks\n",
    "import logging"
   ]
  },
  {
   "cell_type": "code",
   "execution_count": 3,
   "metadata": {},
   "outputs": [],
   "source": [
    "log = logging.getLogger(__name__)"
   ]
  },
  {
   "cell_type": "markdown",
   "metadata": {},
   "source": [
    "### Importing the data\n",
    "\n",
    "We are using the Merged Electron Region data."
   ]
  },
  {
   "cell_type": "code",
   "execution_count": 4,
   "metadata": {},
   "outputs": [],
   "source": [
    "event_data = pd.read_csv(\"output_data/merged_energy_electron_data.csv\") # Electron Region Event one"
   ]
  },
  {
   "cell_type": "code",
   "execution_count": 5,
   "metadata": {},
   "outputs": [
    {
     "data": {
      "text/html": [
       "<div>\n",
       "<style scoped>\n",
       "    .dataframe tbody tr th:only-of-type {\n",
       "        vertical-align: middle;\n",
       "    }\n",
       "\n",
       "    .dataframe tbody tr th {\n",
       "        vertical-align: top;\n",
       "    }\n",
       "\n",
       "    .dataframe thead th {\n",
       "        text-align: right;\n",
       "    }\n",
       "</style>\n",
       "<table border=\"1\" class=\"dataframe\">\n",
       "  <thead>\n",
       "    <tr style=\"text-align: right;\">\n",
       "      <th></th>\n",
       "      <th>event</th>\n",
       "      <th>eta</th>\n",
       "      <th>phi</th>\n",
       "      <th>et</th>\n",
       "      <th>position</th>\n",
       "      <th>electron</th>\n",
       "      <th>tau</th>\n",
       "    </tr>\n",
       "  </thead>\n",
       "  <tbody>\n",
       "    <tr>\n",
       "      <th>0</th>\n",
       "      <td>1</td>\n",
       "      <td>0</td>\n",
       "      <td>0</td>\n",
       "      <td>7.23932</td>\n",
       "      <td>3</td>\n",
       "      <td>0</td>\n",
       "      <td>0</td>\n",
       "    </tr>\n",
       "    <tr>\n",
       "      <th>1</th>\n",
       "      <td>1</td>\n",
       "      <td>0</td>\n",
       "      <td>1</td>\n",
       "      <td>14.78990</td>\n",
       "      <td>6</td>\n",
       "      <td>0</td>\n",
       "      <td>1</td>\n",
       "    </tr>\n",
       "    <tr>\n",
       "      <th>2</th>\n",
       "      <td>1</td>\n",
       "      <td>0</td>\n",
       "      <td>2</td>\n",
       "      <td>8.17547</td>\n",
       "      <td>4</td>\n",
       "      <td>0</td>\n",
       "      <td>1</td>\n",
       "    </tr>\n",
       "    <tr>\n",
       "      <th>3</th>\n",
       "      <td>1</td>\n",
       "      <td>0</td>\n",
       "      <td>3</td>\n",
       "      <td>6.89318</td>\n",
       "      <td>2</td>\n",
       "      <td>0</td>\n",
       "      <td>0</td>\n",
       "    </tr>\n",
       "    <tr>\n",
       "      <th>4</th>\n",
       "      <td>1</td>\n",
       "      <td>0</td>\n",
       "      <td>4</td>\n",
       "      <td>9.89150</td>\n",
       "      <td>7</td>\n",
       "      <td>0</td>\n",
       "      <td>0</td>\n",
       "    </tr>\n",
       "  </tbody>\n",
       "</table>\n",
       "</div>"
      ],
      "text/plain": [
       "   event  eta  phi        et  position  electron  tau\n",
       "0      1    0    0   7.23932         3         0    0\n",
       "1      1    0    1  14.78990         6         0    1\n",
       "2      1    0    2   8.17547         4         0    1\n",
       "3      1    0    3   6.89318         2         0    0\n",
       "4      1    0    4   9.89150         7         0    0"
      ]
     },
     "execution_count": 5,
     "metadata": {},
     "output_type": "execute_result"
    }
   ],
   "source": [
    "# View the merged data head\n",
    "event_data.head()"
   ]
  },
  {
   "cell_type": "markdown",
   "metadata": {},
   "source": [
    "### ET values"
   ]
  },
  {
   "cell_type": "code",
   "execution_count": 7,
   "metadata": {},
   "outputs": [],
   "source": [
    "# Convert the series into a 14x18 matrix\n",
    "x_et = np.array(event_data['et'])\n",
    "matrix_et = np.asmatrix(x_et)\n",
    "\n",
    "# Resizing into size 14x18\n",
    "matrix_et.resize((14, 18))"
   ]
  },
  {
   "cell_type": "markdown",
   "metadata": {},
   "source": [
    "Create a dictionary of index and et values."
   ]
  },
  {
   "cell_type": "code",
   "execution_count": 27,
   "metadata": {},
   "outputs": [],
   "source": [
    "index_et = {}\n",
    "\n",
    "for idx, energy in event_data['et'].iteritems():\n",
    "    index_et[idx] = energy"
   ]
  },
  {
   "cell_type": "markdown",
   "metadata": {},
   "source": [
    "### Electron values"
   ]
  },
  {
   "cell_type": "code",
   "execution_count": 8,
   "metadata": {},
   "outputs": [],
   "source": [
    "# Convert the series into a 14x18 matrix\n",
    "x_elec = np.array(event_data['electron'])\n",
    "matrix_electron = np.asmatrix(x_elec)\n",
    "\n",
    "# Resizing into size 14x18\n",
    "matrix_electron.resize((14, 18))"
   ]
  },
  {
   "cell_type": "markdown",
   "metadata": {},
   "source": [
    "### Reduce the dimensions of the matrix using 2x2 regions\n",
    "\n",
    "We will now reduce the dimensions of our matrix from 14x18 to 7x9 using 2x2 region replacements, i.e., replacing 2x2 regions by only the highest value of ET (energy) with true electrons."
   ]
  },
  {
   "cell_type": "code",
   "execution_count": 9,
   "metadata": {},
   "outputs": [],
   "source": [
    "# Configuring the size of sub regions\n",
    "s = 2"
   ]
  },
  {
   "cell_type": "markdown",
   "metadata": {},
   "source": [
    "We will now get 2x2 sub matrices as blocks from the electron matrix."
   ]
  },
  {
   "cell_type": "code",
   "execution_count": 32,
   "metadata": {},
   "outputs": [],
   "source": [
    "blocks_elec = skimage.util.view_as_blocks(matrix_electron, (s, s))"
   ]
  },
  {
   "cell_type": "markdown",
   "metadata": {},
   "source": [
    "Reshape each matrix into a list format."
   ]
  },
  {
   "cell_type": "code",
   "execution_count": 37,
   "metadata": {},
   "outputs": [],
   "source": [
    "blocks_elec = blocks_elec.reshape(-1,s**2)"
   ]
  },
  {
   "cell_type": "markdown",
   "metadata": {},
   "source": [
    "Getting blocks for index as well"
   ]
  },
  {
   "cell_type": "code",
   "execution_count": 40,
   "metadata": {},
   "outputs": [],
   "source": [
    "# Convert the series into a 14x18 matrix\n",
    "x_idx = np.array(event_data.index.to_list())\n",
    "matrix_index = np.asmatrix(x_idx)\n",
    "\n",
    "# Resizing into size 14x18\n",
    "matrix_index.resize((14, 18))"
   ]
  },
  {
   "cell_type": "code",
   "execution_count": 46,
   "metadata": {},
   "outputs": [],
   "source": [
    "blocks_idx = skimage.util.view_as_blocks(matrix_index, (s, s))"
   ]
  },
  {
   "cell_type": "code",
   "execution_count": 49,
   "metadata": {},
   "outputs": [],
   "source": [
    "blocks_idx = blocks_idx.reshape(-1,s**2)"
   ]
  },
  {
   "cell_type": "code",
   "execution_count": 162,
   "metadata": {},
   "outputs": [],
   "source": [
    "# Initialize empty dictionary to save row and index of energy values in matrix\n",
    "energy_dict = {}\n",
    "\n",
    "# Loop inside sub matrix of blocks\n",
    "for i, sub in enumerate(blocks_elec):\n",
    "    count = 0 # initially count is 0\n",
    "    pos_list, idx_list = [], []\n",
    "\n",
    "    # Loop inside each element of submatrix\n",
    "    for idx, element in enumerate(sub):\n",
    "\n",
    "        actual_index = blocks_idx[i][idx]\n",
    "\n",
    "        if element == 1: # if value of electron is 1\n",
    "            \n",
    "            if count < 1:\n",
    "                log.info(\"Contains more than one Electron in:\", idx)\n",
    "                # Add value with actual index\n",
    "                idx_list.append(idx)\n",
    "                pos_list.append({'actual_index': actual_index})\n",
    "                \n",
    "            else:\n",
    "                log.info(\"Contains more than one Electron in:\", idx)\n",
    "                # Add value of actual index\n",
    "                idx_list.append(idx)\n",
    "                pos_list.append({'actual_index': actual_index})\n",
    "\n",
    "            # Count increment\n",
    "            count +=1\n",
    "            \n",
    "            # Save them into the dictionary\n",
    "            energy_dict[i] = [idx_list, pos_list]\n",
    "\n",
    "        else:\n",
    "            # Contains no electron True (1)\n",
    "            if count == 0:\n",
    "                # Add value of actual index\n",
    "                \n",
    "                energy_dict[i] = ['NaN']\n",
    "\n",
    "                log.info(\"No electron in row\")\n",
    "        \n",
    "\n",
    "    # Check if count is greater than or equal to 1        \n",
    "    if count >= 1:\n",
    "        log.info(\"Energy is present in matrix:\", i)\n",
    "    else:\n",
    "        log.info(\"No energy in matrix:\", i)"
   ]
  },
  {
   "cell_type": "code",
   "execution_count": 210,
   "metadata": {},
   "outputs": [],
   "source": [
    "# energy_dict"
   ]
  },
  {
   "cell_type": "markdown",
   "metadata": {},
   "source": [
    "check if multiple values in same submatrix have been included."
   ]
  },
  {
   "cell_type": "code",
   "execution_count": 164,
   "metadata": {},
   "outputs": [],
   "source": [
    "# Get list of matrix rows with electron True\n",
    "matrices_with_energy = [k for k,v in energy_dict.items() if v[0] != 'NaN']"
   ]
  },
  {
   "cell_type": "code",
   "execution_count": 176,
   "metadata": {
    "collapsed": true,
    "jupyter": {
     "outputs_hidden": true
    }
   },
   "outputs": [
    {
     "name": "stdout",
     "output_type": "stream",
     "text": [
      "[{'actual_index': 34}]\n",
      "[{'actual_index': 39}]\n",
      "[{'actual_index': 40}]\n",
      "[{'actual_index': 63}]\n",
      "[{'actual_index': 49}]\n",
      "[{'actual_index': 92}]\n",
      "[{'actual_index': 77}]\n",
      "[{'actual_index': 98}, {'actual_index': 99}]\n",
      "[{'actual_index': 85}, {'actual_index': 102}]\n",
      "[{'actual_index': 109}]\n",
      "[{'actual_index': 131}]\n",
      "[{'actual_index': 133}]\n",
      "[{'actual_index': 134}]\n",
      "[{'actual_index': 121}]\n",
      "[{'actual_index': 155}, {'actual_index': 173}]\n",
      "[{'actual_index': 160}]\n",
      "[{'actual_index': 188}, {'actual_index': 207}]\n",
      "[{'actual_index': 213}]\n",
      "[{'actual_index': 219}, {'actual_index': 236}]\n",
      "[{'actual_index': 222}]\n",
      "[{'actual_index': 250}]\n"
     ]
    }
   ],
   "source": [
    "for k,v in energy_dict.items():\n",
    "    \n",
    "    if v[0] != 'NaN':\n",
    "        print(v[1])\n",
    "#     if v[1]:\n",
    "#         print(v[1])"
   ]
  },
  {
   "cell_type": "markdown",
   "metadata": {},
   "source": [
    "We will now get 2x2 sub matrices as blocks from the energy (et) matrix."
   ]
  },
  {
   "cell_type": "code",
   "execution_count": 177,
   "metadata": {},
   "outputs": [],
   "source": [
    "blocks_energy = view_as_blocks(matrix_et, (s,s)).reshape(-1,s**2)"
   ]
  },
  {
   "cell_type": "code",
   "execution_count": 192,
   "metadata": {},
   "outputs": [],
   "source": [
    "final_energy = []\n",
    "\n",
    "# Loop within submatrix of 2x2 energy value blocks\n",
    "for row, sub in enumerate(blocks_energy):\n",
    "    # Check if row contains electron True values\n",
    "    if row in matrices_with_energy:\n",
    "        log.info(\"Contains energy values in row:\", row)\n",
    "        \n",
    "        # Get the value of index \n",
    "        index = np.argmax(sub[energy_dict[row][0]])\n",
    "        \n",
    "        # Append the tuple (max energy, actual index (18x14))\n",
    "        # energy_dict[row][1][index] is the value of dictionary list of actual index \n",
    "        # that was the maximum from np argmax\n",
    "        final_energy.append([sub[energy_dict[row][0]].max(), energy_dict[row][1][index]])\n",
    "    else:\n",
    "        final_energy.append([0, energy_dict[row]])"
   ]
  },
  {
   "cell_type": "code",
   "execution_count": 193,
   "metadata": {},
   "outputs": [
    {
     "data": {
      "text/plain": [
       "[[0, ['NaN']],\n",
       " [0, ['NaN']],\n",
       " [0, ['NaN']],\n",
       " [0, ['NaN']],\n",
       " [0, ['NaN']],\n",
       " [0, ['NaN']],\n",
       " [0, ['NaN']],\n",
       " [0, ['NaN']],\n",
       " [12.8206, {'actual_index': 34}],\n",
       " [0, ['NaN']],\n",
       " [0.0, {'actual_index': 39}],\n",
       " [16.15002, {'actual_index': 40}],\n",
       " [0, ['NaN']],\n",
       " [13.3519, {'actual_index': 63}],\n",
       " [0, ['NaN']],\n",
       " [64.3284, {'actual_index': 49}],\n",
       " [0, ['NaN']],\n",
       " [0, ['NaN']],\n",
       " [0, ['NaN']],\n",
       " [8.14362, {'actual_index': 92}],\n",
       " [10.5057, {'actual_index': 77}],\n",
       " [0, ['NaN']],\n",
       " [13.4624, {'actual_index': 98}],\n",
       " [0, ['NaN']],\n",
       " [13.7001, {'actual_index': 85}],\n",
       " [0, ['NaN']],\n",
       " [0, ['NaN']],\n",
       " [11.288, {'actual_index': 109}],\n",
       " [0, ['NaN']],\n",
       " [12.3744, {'actual_index': 131}],\n",
       " [8.79125, {'actual_index': 133}],\n",
       " [9.65047, {'actual_index': 134}],\n",
       " [0, ['NaN']],\n",
       " [5.67157, {'actual_index': 121}],\n",
       " [0, ['NaN']],\n",
       " [0, ['NaN']],\n",
       " [0, ['NaN']],\n",
       " [0, ['NaN']],\n",
       " [0, ['NaN']],\n",
       " [0, ['NaN']],\n",
       " [0, ['NaN']],\n",
       " [12.0682, {'actual_index': 173}],\n",
       " [0, ['NaN']],\n",
       " [0, ['NaN']],\n",
       " [9.62609, {'actual_index': 160}],\n",
       " [0, ['NaN']],\n",
       " [0, ['NaN']],\n",
       " [0, ['NaN']],\n",
       " [0, ['NaN']],\n",
       " [11.2701, {'actual_index': 188}],\n",
       " [0, ['NaN']],\n",
       " [0, ['NaN']],\n",
       " [12.4474, {'actual_index': 213}],\n",
       " [0, ['NaN']],\n",
       " [0, ['NaN']],\n",
       " [15.3848, {'actual_index': 219}],\n",
       " [0, ['NaN']],\n",
       " [4.03492, {'actual_index': 222}],\n",
       " [0, ['NaN']],\n",
       " [0, ['NaN']],\n",
       " [0, ['NaN']],\n",
       " [0, ['NaN']],\n",
       " [12.1941, {'actual_index': 250}]]"
      ]
     },
     "execution_count": 193,
     "metadata": {},
     "output_type": "execute_result"
    }
   ],
   "source": [
    "final_energy"
   ]
  },
  {
   "cell_type": "code",
   "execution_count": 194,
   "metadata": {},
   "outputs": [
    {
     "data": {
      "text/plain": [
       "63"
      ]
     },
     "execution_count": 194,
     "metadata": {},
     "output_type": "execute_result"
    }
   ],
   "source": [
    "len(final_energy)"
   ]
  },
  {
   "cell_type": "markdown",
   "metadata": {},
   "source": [
    "Saving the values of energy."
   ]
  },
  {
   "cell_type": "code",
   "execution_count": 208,
   "metadata": {},
   "outputs": [],
   "source": [
    "energy_vals = [vals[0] for vals in final_energy]"
   ]
  },
  {
   "cell_type": "code",
   "execution_count": 209,
   "metadata": {},
   "outputs": [
    {
     "data": {
      "text/plain": [
       "[0,\n",
       " 0,\n",
       " 0,\n",
       " 0,\n",
       " 0,\n",
       " 0,\n",
       " 0,\n",
       " 0,\n",
       " 12.8206,\n",
       " 0,\n",
       " 0.0,\n",
       " 16.15002,\n",
       " 0,\n",
       " 13.3519,\n",
       " 0,\n",
       " 64.3284,\n",
       " 0,\n",
       " 0,\n",
       " 0,\n",
       " 8.14362,\n",
       " 10.5057,\n",
       " 0,\n",
       " 13.4624,\n",
       " 0,\n",
       " 13.7001,\n",
       " 0,\n",
       " 0,\n",
       " 11.288,\n",
       " 0,\n",
       " 12.3744,\n",
       " 8.79125,\n",
       " 9.65047,\n",
       " 0,\n",
       " 5.67157,\n",
       " 0,\n",
       " 0,\n",
       " 0,\n",
       " 0,\n",
       " 0,\n",
       " 0,\n",
       " 0,\n",
       " 12.0682,\n",
       " 0,\n",
       " 0,\n",
       " 9.62609,\n",
       " 0,\n",
       " 0,\n",
       " 0,\n",
       " 0,\n",
       " 11.2701,\n",
       " 0,\n",
       " 0,\n",
       " 12.4474,\n",
       " 0,\n",
       " 0,\n",
       " 15.3848,\n",
       " 0,\n",
       " 4.03492,\n",
       " 0,\n",
       " 0,\n",
       " 0,\n",
       " 0,\n",
       " 12.1941]"
      ]
     },
     "execution_count": 209,
     "metadata": {},
     "output_type": "execute_result"
    }
   ],
   "source": [
    "energy_vals"
   ]
  },
  {
   "cell_type": "code",
   "execution_count": 203,
   "metadata": {},
   "outputs": [
    {
     "name": "stdout",
     "output_type": "stream",
     "text": [
      "['NaN']\n",
      "['NaN']\n",
      "['NaN']\n",
      "['NaN']\n",
      "['NaN']\n",
      "['NaN']\n",
      "['NaN']\n",
      "['NaN']\n",
      "{'actual_index': 34}\n",
      "['NaN']\n",
      "{'actual_index': 39}\n",
      "{'actual_index': 40}\n",
      "['NaN']\n",
      "{'actual_index': 63}\n",
      "['NaN']\n",
      "{'actual_index': 49}\n",
      "['NaN']\n",
      "['NaN']\n",
      "['NaN']\n",
      "{'actual_index': 92}\n",
      "{'actual_index': 77}\n",
      "['NaN']\n",
      "{'actual_index': 98}\n",
      "['NaN']\n",
      "{'actual_index': 85}\n",
      "['NaN']\n",
      "['NaN']\n",
      "{'actual_index': 109}\n",
      "['NaN']\n",
      "{'actual_index': 131}\n",
      "{'actual_index': 133}\n",
      "{'actual_index': 134}\n",
      "['NaN']\n",
      "{'actual_index': 121}\n",
      "['NaN']\n",
      "['NaN']\n",
      "['NaN']\n",
      "['NaN']\n",
      "['NaN']\n",
      "['NaN']\n",
      "['NaN']\n",
      "{'actual_index': 173}\n",
      "['NaN']\n",
      "['NaN']\n",
      "{'actual_index': 160}\n",
      "['NaN']\n",
      "['NaN']\n",
      "['NaN']\n",
      "['NaN']\n",
      "{'actual_index': 188}\n",
      "['NaN']\n",
      "['NaN']\n",
      "{'actual_index': 213}\n",
      "['NaN']\n",
      "['NaN']\n",
      "{'actual_index': 219}\n",
      "['NaN']\n",
      "{'actual_index': 222}\n",
      "['NaN']\n",
      "['NaN']\n",
      "['NaN']\n",
      "['NaN']\n",
      "{'actual_index': 250}\n"
     ]
    }
   ],
   "source": [
    "# for vals in final_energy:\n",
    "#     print(vals[1])\n",
    "    \n",
    "#     ## Get actual_index from this "
   ]
  },
  {
   "cell_type": "markdown",
   "metadata": {},
   "source": [
    "Save them into a final array.\n",
    "\n",
    "Reshape them as 7x9\n",
    "\n",
    "Save their index as well\n",
    "\n",
    "sort them based on energy values into 6 electrons."
   ]
  },
  {
   "cell_type": "markdown",
   "metadata": {},
   "source": [
    "### Get 6 electrons\n",
    "\n",
    "- Sort them based on their energies"
   ]
  },
  {
   "cell_type": "markdown",
   "metadata": {},
   "source": [
    "To do: \n",
    "Get time complexity"
   ]
  }
 ],
 "metadata": {
  "kernelspec": {
   "display_name": "Python 3",
   "language": "python",
   "name": "python3"
  },
  "language_info": {
   "codemirror_mode": {
    "name": "ipython",
    "version": 3
   },
   "file_extension": ".py",
   "mimetype": "text/x-python",
   "name": "python",
   "nbconvert_exporter": "python",
   "pygments_lexer": "ipython3",
   "version": "3.8.5"
  }
 },
 "nbformat": 4,
 "nbformat_minor": 4
}
