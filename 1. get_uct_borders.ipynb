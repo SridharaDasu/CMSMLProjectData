{
 "cells": [
  {
   "cell_type": "code",
   "execution_count": 1,
   "metadata": {},
   "outputs": [],
   "source": [
    "# Importing necessary libraries\n",
    "import numpy as np"
   ]
  },
  {
   "cell_type": "markdown",
   "metadata": {},
   "source": [
    "### Creating an array to show the 4x4 UCT Region"
   ]
  },
  {
   "cell_type": "code",
   "execution_count": 2,
   "metadata": {},
   "outputs": [],
   "source": [
    "# Create a mock data with the values of 4x4 uct region\n",
    "mock_array = np.array([0,1,2,3,4,5,6,7,8,9,10,11,12,13,14,15])"
   ]
  },
  {
   "cell_type": "code",
   "execution_count": 3,
   "metadata": {},
   "outputs": [
    {
     "data": {
      "text/plain": [
       "array([[ 0,  1,  2,  3],\n",
       "       [ 4,  5,  6,  7],\n",
       "       [ 8,  9, 10, 11],\n",
       "       [12, 13, 14, 15]])"
      ]
     },
     "execution_count": 3,
     "metadata": {},
     "output_type": "execute_result"
    }
   ],
   "source": [
    "# Reshape into a 4x4 array\n",
    "arr_2d = np.reshape(mock_array, (4, 4))\n",
    "arr_2d"
   ]
  },
  {
   "cell_type": "code",
   "execution_count": 4,
   "metadata": {},
   "outputs": [],
   "source": [
    "# Adjust it based on the positions of our UCT Region\n",
    "matrix = np.flipud(arr_2d.transpose())"
   ]
  },
  {
   "cell_type": "code",
   "execution_count": 5,
   "metadata": {},
   "outputs": [],
   "source": [
    "# View the matrix\n",
    "matrix"
   ]
  },
  {
   "cell_type": "code",
   "execution_count": 6,
   "metadata": {},
   "outputs": [
    {
     "data": {
      "text/plain": [
       "array([[ 3,  7, 11, 15,  3,  7, 11, 15],\n",
       "       [ 2,  6, 10, 14,  2,  6, 10, 14],\n",
       "       [ 1,  5,  9, 13,  1,  5,  9, 13],\n",
       "       [ 0,  4,  8, 12,  0,  4,  8, 12],\n",
       "       [ 3,  7, 11, 15,  3,  7, 11, 15],\n",
       "       [ 2,  6, 10, 14,  2,  6, 10, 14],\n",
       "       [ 1,  5,  9, 13,  1,  5,  9, 13],\n",
       "       [ 0,  4,  8, 12,  0,  4,  8, 12]])"
      ]
     },
     "execution_count": 6,
     "metadata": {},
     "output_type": "execute_result"
    }
   ],
   "source": [
    "# Creating a mock matrix with 4 UCTRegions with their positions\n",
    "positions = np.vstack([np.hstack([matrix, matrix]), np.hstack([matrix, matrix])])\n",
    "\n",
    "#View\n",
    "positions"
   ]
  },
  {
   "cell_type": "markdown",
   "metadata": {},
   "source": [
    "Plotting the regions on a 2-d plot."
   ]
  },
  {
   "cell_type": "code",
   "execution_count": 7,
   "metadata": {},
   "outputs": [
    {
     "data": {
      "image/png": "[encoded data removed]",
      "text/plain": [
       "<Figure size 1296x432 with 1 Axes>"
      ]
     },
     "metadata": {
      "needs_background": "light"
     },
     "output_type": "display_data"
    }
   ],
   "source": [
    "fig, ax = plt.subplots(figsize = (18, 6))\n",
    "mat = ax.imshow(positions, cmap='GnBu', interpolation='nearest')\n",
    "mat = ax.margins(0) # remove default margins (matplotlib verision 2+)\n",
    "\n",
    "# Divide 4x4 regions\n",
    "mat = ax.axhspan(-1, 3.5, facecolor='green', alpha=0.8)\n",
    "mat = ax.axvspan(3.5, 8, facecolor='red', alpha=0.8)\n",
    "\n",
    "mat = ax.axhspan(3.5, 8, facecolor='yellow', alpha=0.6)\n",
    "# mat = ax.axvspan(3.5, 8, 1, 1, facecolor='blue')\n",
    "\n",
    "# Set attributes\n",
    "plt.ylabel(\"eta\")\n",
    "plt.xlabel(\"phi\")\n",
    "plt.yticks(range(positions.shape[0]))\n",
    "plt.xticks(range(positions.shape[1]))\n",
    "\n",
    "# this places the numbers centered in the individual squares\n",
    "for x in range(positions.shape[0]):\n",
    "    for y in range(positions.shape[1]):\n",
    "        ax.annotate(str(positions[x, y]), xy=(y, x), \n",
    "                    horizontalalignment='center', verticalalignment='center')\n",
    "plt.show()"
   ]
  },
  {
   "cell_type": "markdown",
   "metadata": {},
   "source": [
    "We will now get the value of positions as an array."
   ]
  },
  {
   "cell_type": "code",
   "execution_count": 8,
   "metadata": {},
   "outputs": [],
   "source": [
    "pos = np.array(positions)"
   ]
  },
  {
   "cell_type": "markdown",
   "metadata": {},
   "source": [
    "We will now loop through the size of UCT Region to find the list of adjacent border values of positions in both horizontal and vertical spaces."
   ]
  },
  {
   "cell_type": "code",
   "execution_count": 9,
   "metadata": {},
   "outputs": [],
   "source": [
    "# size of the region is 4x4\n",
    "size = 4\n",
    "horizontal_listnew = []\n",
    "vertical_listnew = []\n",
    "for i in range(0,size):\n",
    "    # Get the border line adjacent elements of the 4x4 region both horizontal and vertical\n",
    "    horizontal_listnew.append((pos[size-1][i], pos[size][i]))\n",
    "    vertical_listnew.append((pos[i][size-1], pos[i][size]))"
   ]
  },
  {
   "cell_type": "code",
   "execution_count": 10,
   "metadata": {},
   "outputs": [
    {
     "data": {
      "text/plain": [
       "[(0, 3), (4, 7), (8, 11), (12, 15)]"
      ]
     },
     "execution_count": 10,
     "metadata": {},
     "output_type": "execute_result"
    }
   ],
   "source": [
    "horizontal_listnew"
   ]
  },
  {
   "cell_type": "markdown",
   "metadata": {},
   "source": [
    "<img src=\"images/horizontal_val.PNG\">"
   ]
  },
  {
   "cell_type": "code",
   "execution_count": 11,
   "metadata": {},
   "outputs": [
    {
     "data": {
      "text/plain": [
       "[(15, 3), (14, 2), (13, 1), (12, 0)]"
      ]
     },
     "execution_count": 11,
     "metadata": {},
     "output_type": "execute_result"
    }
   ],
   "source": [
    "vertical_listnew"
   ]
  },
  {
   "cell_type": "markdown",
   "metadata": {},
   "source": [
    "<img src=\"images/vertical_val.PNG\">"
   ]
  },
  {
   "cell_type": "markdown",
   "metadata": {},
   "source": [
    "- We will be using this list to find if any signal bits i.e, Electron = True values have these positions.\n",
    "- If they do, we will be merging the value of their energy."
   ]
  }
 ],
 "metadata": {
  "kernelspec": {
   "display_name": "Python 3",
   "language": "python",
   "name": "python3"
  },
  "language_info": {
   "codemirror_mode": {
    "name": "ipython",
    "version": 3
   },
   "file_extension": ".py",
   "mimetype": "text/x-python",
   "name": "python",
   "nbconvert_exporter": "python",
   "pygments_lexer": "ipython3",
   "version": "3.8.5"
  }
 },
 "nbformat": 4,
 "nbformat_minor": 4
}
