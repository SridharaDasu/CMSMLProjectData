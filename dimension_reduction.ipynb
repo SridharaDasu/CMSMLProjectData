{
 "cells": [
  {
   "cell_type": "markdown",
   "metadata": {},
   "source": [
    "## Reducing data dimensions"
   ]
  },
  {
   "cell_type": "code",
   "execution_count": 3,
   "metadata": {},
   "outputs": [],
   "source": [
    "# Importing necessary libraries\n",
    "import pandas as pd\n",
    "import matplotlib.pyplot as plt\n",
    "import numpy as np\n",
    "from scipy import stats\n",
    "import seaborn as sns\n",
    "from functools import reduce\n",
    "import skimage.measure\n",
    "%matplotlib inline"
   ]
  },
  {
   "cell_type": "code",
   "execution_count": 4,
   "metadata": {},
   "outputs": [],
   "source": [
    "# Hiding warnings\n",
    "import warnings\n",
    "warnings.filterwarnings('ignore')"
   ]
  },
  {
   "cell_type": "markdown",
   "metadata": {},
   "source": [
    "### Importing the data\n",
    "\n",
    "We are using the Electron Region data."
   ]
  },
  {
   "cell_type": "code",
   "execution_count": 5,
   "metadata": {},
   "outputs": [],
   "source": [
    "data = pd.read_csv(\"output_data/ElectronRegionData.csv\") # Electron Region"
   ]
  },
  {
   "cell_type": "code",
   "execution_count": 6,
   "metadata": {},
   "outputs": [
    {
     "data": {
      "text/html": [
       "<div>\n",
       "<style scoped>\n",
       "    .dataframe tbody tr th:only-of-type {\n",
       "        vertical-align: middle;\n",
       "    }\n",
       "\n",
       "    .dataframe tbody tr th {\n",
       "        vertical-align: top;\n",
       "    }\n",
       "\n",
       "    .dataframe thead th {\n",
       "        text-align: right;\n",
       "    }\n",
       "</style>\n",
       "<table border=\"1\" class=\"dataframe\">\n",
       "  <thead>\n",
       "    <tr style=\"text-align: right;\">\n",
       "      <th></th>\n",
       "      <th>event</th>\n",
       "      <th>eta</th>\n",
       "      <th>phi</th>\n",
       "      <th>et</th>\n",
       "      <th>position</th>\n",
       "      <th>electron</th>\n",
       "      <th>tau</th>\n",
       "    </tr>\n",
       "  </thead>\n",
       "  <tbody>\n",
       "    <tr>\n",
       "      <th>0</th>\n",
       "      <td>0</td>\n",
       "      <td>0</td>\n",
       "      <td>0</td>\n",
       "      <td>12.15180</td>\n",
       "      <td>9</td>\n",
       "      <td>0</td>\n",
       "      <td>0</td>\n",
       "    </tr>\n",
       "    <tr>\n",
       "      <th>1</th>\n",
       "      <td>0</td>\n",
       "      <td>0</td>\n",
       "      <td>1</td>\n",
       "      <td>10.19040</td>\n",
       "      <td>5</td>\n",
       "      <td>0</td>\n",
       "      <td>0</td>\n",
       "    </tr>\n",
       "    <tr>\n",
       "      <th>2</th>\n",
       "      <td>0</td>\n",
       "      <td>0</td>\n",
       "      <td>2</td>\n",
       "      <td>7.06514</td>\n",
       "      <td>6</td>\n",
       "      <td>0</td>\n",
       "      <td>0</td>\n",
       "    </tr>\n",
       "    <tr>\n",
       "      <th>3</th>\n",
       "      <td>0</td>\n",
       "      <td>0</td>\n",
       "      <td>3</td>\n",
       "      <td>6.87023</td>\n",
       "      <td>14</td>\n",
       "      <td>0</td>\n",
       "      <td>0</td>\n",
       "    </tr>\n",
       "    <tr>\n",
       "      <th>4</th>\n",
       "      <td>0</td>\n",
       "      <td>0</td>\n",
       "      <td>4</td>\n",
       "      <td>5.66144</td>\n",
       "      <td>1</td>\n",
       "      <td>0</td>\n",
       "      <td>0</td>\n",
       "    </tr>\n",
       "  </tbody>\n",
       "</table>\n",
       "</div>"
      ],
      "text/plain": [
       "   event  eta  phi        et  position  electron  tau\n",
       "0      0    0    0  12.15180         9         0    0\n",
       "1      0    0    1  10.19040         5         0    0\n",
       "2      0    0    2   7.06514         6         0    0\n",
       "3      0    0    3   6.87023        14         0    0\n",
       "4      0    0    4   5.66144         1         0    0"
      ]
     },
     "execution_count": 6,
     "metadata": {},
     "output_type": "execute_result"
    }
   ],
   "source": [
    "# View the merged data head\n",
    "data.head()"
   ]
  },
  {
   "cell_type": "markdown",
   "metadata": {},
   "source": [
    "**Data Dictionary**\n",
    "\n",
    "- event: Event number (Integer)\n",
    "- eta: Index of eta coordinate 0-13 (Integer)\n",
    "- phi: Index of phi coordinate, 0-17, which is also specifies the optical link (Integer)\n",
    "- et: Transverse energy deposited in the region (Float)\n",
    "- position: Position of the cluster within the region, a 4-bit number (Integer)\n",
    "- electron: Electron bit signifying that the region likely has an electron or photon deposit (Bool)\n",
    "- tau: Tau bit signifying that the region likely has a tau deposit (Bool)"
   ]
  },
  {
   "cell_type": "code",
   "execution_count": 7,
   "metadata": {},
   "outputs": [
    {
     "data": {
      "text/plain": [
       "(64512, 7)"
      ]
     },
     "execution_count": 7,
     "metadata": {},
     "output_type": "execute_result"
    }
   ],
   "source": [
    "# Check the shape of the merged dataframe\n",
    "data.shape"
   ]
  },
  {
   "cell_type": "markdown",
   "metadata": {},
   "source": [
    "Check for null values."
   ]
  },
  {
   "cell_type": "code",
   "execution_count": 8,
   "metadata": {},
   "outputs": [
    {
     "data": {
      "text/plain": [
       "event       0\n",
       "eta         0\n",
       "phi         0\n",
       "et          0\n",
       "position    0\n",
       "electron    0\n",
       "tau         0\n",
       "dtype: int64"
      ]
     },
     "execution_count": 8,
     "metadata": {},
     "output_type": "execute_result"
    }
   ],
   "source": [
    "data.isnull().sum()"
   ]
  },
  {
   "cell_type": "markdown",
   "metadata": {},
   "source": [
    "There are no null values in the data."
   ]
  },
  {
   "cell_type": "markdown",
   "metadata": {},
   "source": [
    "### Plotting the values onto a matrix\n",
    "\n",
    "We are using the electron region data for the 0th event."
   ]
  },
  {
   "cell_type": "code",
   "execution_count": 9,
   "metadata": {},
   "outputs": [],
   "source": [
    "event_data = data.loc[data['event'] == 0]"
   ]
  },
  {
   "cell_type": "code",
   "execution_count": 10,
   "metadata": {},
   "outputs": [
    {
     "data": {
      "text/html": [
       "<div>\n",
       "<style scoped>\n",
       "    .dataframe tbody tr th:only-of-type {\n",
       "        vertical-align: middle;\n",
       "    }\n",
       "\n",
       "    .dataframe tbody tr th {\n",
       "        vertical-align: top;\n",
       "    }\n",
       "\n",
       "    .dataframe thead th {\n",
       "        text-align: right;\n",
       "    }\n",
       "</style>\n",
       "<table border=\"1\" class=\"dataframe\">\n",
       "  <thead>\n",
       "    <tr style=\"text-align: right;\">\n",
       "      <th></th>\n",
       "      <th>event</th>\n",
       "      <th>eta</th>\n",
       "      <th>phi</th>\n",
       "      <th>et</th>\n",
       "      <th>position</th>\n",
       "      <th>electron</th>\n",
       "      <th>tau</th>\n",
       "    </tr>\n",
       "  </thead>\n",
       "  <tbody>\n",
       "    <tr>\n",
       "      <th>0</th>\n",
       "      <td>0</td>\n",
       "      <td>0</td>\n",
       "      <td>0</td>\n",
       "      <td>12.15180</td>\n",
       "      <td>9</td>\n",
       "      <td>0</td>\n",
       "      <td>0</td>\n",
       "    </tr>\n",
       "    <tr>\n",
       "      <th>1</th>\n",
       "      <td>0</td>\n",
       "      <td>0</td>\n",
       "      <td>1</td>\n",
       "      <td>10.19040</td>\n",
       "      <td>5</td>\n",
       "      <td>0</td>\n",
       "      <td>0</td>\n",
       "    </tr>\n",
       "    <tr>\n",
       "      <th>2</th>\n",
       "      <td>0</td>\n",
       "      <td>0</td>\n",
       "      <td>2</td>\n",
       "      <td>7.06514</td>\n",
       "      <td>6</td>\n",
       "      <td>0</td>\n",
       "      <td>0</td>\n",
       "    </tr>\n",
       "    <tr>\n",
       "      <th>3</th>\n",
       "      <td>0</td>\n",
       "      <td>0</td>\n",
       "      <td>3</td>\n",
       "      <td>6.87023</td>\n",
       "      <td>14</td>\n",
       "      <td>0</td>\n",
       "      <td>0</td>\n",
       "    </tr>\n",
       "    <tr>\n",
       "      <th>4</th>\n",
       "      <td>0</td>\n",
       "      <td>0</td>\n",
       "      <td>4</td>\n",
       "      <td>5.66144</td>\n",
       "      <td>1</td>\n",
       "      <td>0</td>\n",
       "      <td>0</td>\n",
       "    </tr>\n",
       "  </tbody>\n",
       "</table>\n",
       "</div>"
      ],
      "text/plain": [
       "   event  eta  phi        et  position  electron  tau\n",
       "0      0    0    0  12.15180         9         0    0\n",
       "1      0    0    1  10.19040         5         0    0\n",
       "2      0    0    2   7.06514         6         0    0\n",
       "3      0    0    3   6.87023        14         0    0\n",
       "4      0    0    4   5.66144         1         0    0"
      ]
     },
     "execution_count": 10,
     "metadata": {},
     "output_type": "execute_result"
    }
   ],
   "source": [
    "# View the first five rows of dataframe\n",
    "event_data.head()"
   ]
  },
  {
   "cell_type": "code",
   "execution_count": 11,
   "metadata": {},
   "outputs": [
    {
     "data": {
      "text/plain": [
       "252"
      ]
     },
     "execution_count": 11,
     "metadata": {},
     "output_type": "execute_result"
    }
   ],
   "source": [
    "# Number of data values in an event\n",
    "event_data.shape[0]"
   ]
  },
  {
   "cell_type": "code",
   "execution_count": 12,
   "metadata": {},
   "outputs": [
    {
     "data": {
      "text/plain": [
       "array([ 9,  5,  6, 14,  1,  3, 16,  2, 15,  8, 12, 11,  0,  4, 13,  7, 10],\n",
       "      dtype=int64)"
      ]
     },
     "execution_count": 12,
     "metadata": {},
     "output_type": "execute_result"
    }
   ],
   "source": [
    "event_data['position'].unique()"
   ]
  },
  {
   "cell_type": "code",
   "execution_count": 13,
   "metadata": {},
   "outputs": [],
   "source": [
    "# event_data.to_csv('output_data/zero_event_data.csv')"
   ]
  },
  {
   "cell_type": "code",
   "execution_count": null,
   "metadata": {},
   "outputs": [],
   "source": [
    "event_data"
   ]
  },
  {
   "cell_type": "code",
   "execution_count": null,
   "metadata": {},
   "outputs": [],
   "source": []
  },
  {
   "cell_type": "code",
   "execution_count": 19,
   "metadata": {},
   "outputs": [
    {
     "data": {
      "text/html": [
       "<div>\n",
       "<style scoped>\n",
       "    .dataframe tbody tr th:only-of-type {\n",
       "        vertical-align: middle;\n",
       "    }\n",
       "\n",
       "    .dataframe tbody tr th {\n",
       "        vertical-align: top;\n",
       "    }\n",
       "\n",
       "    .dataframe thead th {\n",
       "        text-align: right;\n",
       "    }\n",
       "</style>\n",
       "<table border=\"1\" class=\"dataframe\">\n",
       "  <thead>\n",
       "    <tr style=\"text-align: right;\">\n",
       "      <th></th>\n",
       "      <th>event</th>\n",
       "      <th>eta</th>\n",
       "      <th>phi</th>\n",
       "      <th>et</th>\n",
       "      <th>position</th>\n",
       "      <th>electron</th>\n",
       "      <th>tau</th>\n",
       "    </tr>\n",
       "  </thead>\n",
       "  <tbody>\n",
       "    <tr>\n",
       "      <th>0</th>\n",
       "      <td>0</td>\n",
       "      <td>0</td>\n",
       "      <td>0</td>\n",
       "      <td>12.15180</td>\n",
       "      <td>9</td>\n",
       "      <td>0</td>\n",
       "      <td>0</td>\n",
       "    </tr>\n",
       "    <tr>\n",
       "      <th>1</th>\n",
       "      <td>0</td>\n",
       "      <td>0</td>\n",
       "      <td>1</td>\n",
       "      <td>10.19040</td>\n",
       "      <td>5</td>\n",
       "      <td>0</td>\n",
       "      <td>0</td>\n",
       "    </tr>\n",
       "    <tr>\n",
       "      <th>2</th>\n",
       "      <td>0</td>\n",
       "      <td>0</td>\n",
       "      <td>2</td>\n",
       "      <td>7.06514</td>\n",
       "      <td>6</td>\n",
       "      <td>0</td>\n",
       "      <td>0</td>\n",
       "    </tr>\n",
       "    <tr>\n",
       "      <th>3</th>\n",
       "      <td>0</td>\n",
       "      <td>0</td>\n",
       "      <td>3</td>\n",
       "      <td>6.87023</td>\n",
       "      <td>14</td>\n",
       "      <td>0</td>\n",
       "      <td>0</td>\n",
       "    </tr>\n",
       "    <tr>\n",
       "      <th>4</th>\n",
       "      <td>0</td>\n",
       "      <td>0</td>\n",
       "      <td>4</td>\n",
       "      <td>5.66144</td>\n",
       "      <td>1</td>\n",
       "      <td>0</td>\n",
       "      <td>0</td>\n",
       "    </tr>\n",
       "    <tr>\n",
       "      <th>5</th>\n",
       "      <td>0</td>\n",
       "      <td>0</td>\n",
       "      <td>5</td>\n",
       "      <td>4.74265</td>\n",
       "      <td>3</td>\n",
       "      <td>0</td>\n",
       "      <td>0</td>\n",
       "    </tr>\n",
       "    <tr>\n",
       "      <th>6</th>\n",
       "      <td>0</td>\n",
       "      <td>0</td>\n",
       "      <td>6</td>\n",
       "      <td>11.83710</td>\n",
       "      <td>5</td>\n",
       "      <td>0</td>\n",
       "      <td>0</td>\n",
       "    </tr>\n",
       "    <tr>\n",
       "      <th>7</th>\n",
       "      <td>0</td>\n",
       "      <td>0</td>\n",
       "      <td>7</td>\n",
       "      <td>9.57456</td>\n",
       "      <td>16</td>\n",
       "      <td>1</td>\n",
       "      <td>0</td>\n",
       "    </tr>\n",
       "    <tr>\n",
       "      <th>8</th>\n",
       "      <td>0</td>\n",
       "      <td>0</td>\n",
       "      <td>8</td>\n",
       "      <td>2.85446</td>\n",
       "      <td>1</td>\n",
       "      <td>0</td>\n",
       "      <td>0</td>\n",
       "    </tr>\n",
       "    <tr>\n",
       "      <th>9</th>\n",
       "      <td>0</td>\n",
       "      <td>0</td>\n",
       "      <td>9</td>\n",
       "      <td>11.12570</td>\n",
       "      <td>2</td>\n",
       "      <td>0</td>\n",
       "      <td>1</td>\n",
       "    </tr>\n",
       "    <tr>\n",
       "      <th>10</th>\n",
       "      <td>0</td>\n",
       "      <td>0</td>\n",
       "      <td>10</td>\n",
       "      <td>9.09568</td>\n",
       "      <td>1</td>\n",
       "      <td>0</td>\n",
       "      <td>1</td>\n",
       "    </tr>\n",
       "    <tr>\n",
       "      <th>11</th>\n",
       "      <td>0</td>\n",
       "      <td>0</td>\n",
       "      <td>11</td>\n",
       "      <td>6.46432</td>\n",
       "      <td>1</td>\n",
       "      <td>0</td>\n",
       "      <td>0</td>\n",
       "    </tr>\n",
       "    <tr>\n",
       "      <th>12</th>\n",
       "      <td>0</td>\n",
       "      <td>0</td>\n",
       "      <td>12</td>\n",
       "      <td>11.40250</td>\n",
       "      <td>5</td>\n",
       "      <td>1</td>\n",
       "      <td>0</td>\n",
       "    </tr>\n",
       "    <tr>\n",
       "      <th>13</th>\n",
       "      <td>0</td>\n",
       "      <td>0</td>\n",
       "      <td>13</td>\n",
       "      <td>11.48800</td>\n",
       "      <td>6</td>\n",
       "      <td>0</td>\n",
       "      <td>0</td>\n",
       "    </tr>\n",
       "    <tr>\n",
       "      <th>14</th>\n",
       "      <td>0</td>\n",
       "      <td>0</td>\n",
       "      <td>14</td>\n",
       "      <td>9.46717</td>\n",
       "      <td>5</td>\n",
       "      <td>0</td>\n",
       "      <td>1</td>\n",
       "    </tr>\n",
       "    <tr>\n",
       "      <th>15</th>\n",
       "      <td>0</td>\n",
       "      <td>0</td>\n",
       "      <td>15</td>\n",
       "      <td>6.86677</td>\n",
       "      <td>3</td>\n",
       "      <td>0</td>\n",
       "      <td>0</td>\n",
       "    </tr>\n",
       "    <tr>\n",
       "      <th>16</th>\n",
       "      <td>0</td>\n",
       "      <td>0</td>\n",
       "      <td>16</td>\n",
       "      <td>10.85700</td>\n",
       "      <td>15</td>\n",
       "      <td>1</td>\n",
       "      <td>0</td>\n",
       "    </tr>\n",
       "    <tr>\n",
       "      <th>17</th>\n",
       "      <td>0</td>\n",
       "      <td>0</td>\n",
       "      <td>17</td>\n",
       "      <td>9.95391</td>\n",
       "      <td>5</td>\n",
       "      <td>0</td>\n",
       "      <td>0</td>\n",
       "    </tr>\n",
       "  </tbody>\n",
       "</table>\n",
       "</div>"
      ],
      "text/plain": [
       "    event  eta  phi        et  position  electron  tau\n",
       "0       0    0    0  12.15180         9         0    0\n",
       "1       0    0    1  10.19040         5         0    0\n",
       "2       0    0    2   7.06514         6         0    0\n",
       "3       0    0    3   6.87023        14         0    0\n",
       "4       0    0    4   5.66144         1         0    0\n",
       "5       0    0    5   4.74265         3         0    0\n",
       "6       0    0    6  11.83710         5         0    0\n",
       "7       0    0    7   9.57456        16         1    0\n",
       "8       0    0    8   2.85446         1         0    0\n",
       "9       0    0    9  11.12570         2         0    1\n",
       "10      0    0   10   9.09568         1         0    1\n",
       "11      0    0   11   6.46432         1         0    0\n",
       "12      0    0   12  11.40250         5         1    0\n",
       "13      0    0   13  11.48800         6         0    0\n",
       "14      0    0   14   9.46717         5         0    1\n",
       "15      0    0   15   6.86677         3         0    0\n",
       "16      0    0   16  10.85700        15         1    0\n",
       "17      0    0   17   9.95391         5         0    0"
      ]
     },
     "execution_count": 19,
     "metadata": {},
     "output_type": "execute_result"
    }
   ],
   "source": [
    "single_cycle_data = event_data[event_data['eta']==0]\n",
    "single_cycle_data"
   ]
  },
  {
   "cell_type": "code",
   "execution_count": 23,
   "metadata": {},
   "outputs": [
    {
     "data": {
      "text/html": [
       "<div>\n",
       "<style scoped>\n",
       "    .dataframe tbody tr th:only-of-type {\n",
       "        vertical-align: middle;\n",
       "    }\n",
       "\n",
       "    .dataframe tbody tr th {\n",
       "        vertical-align: top;\n",
       "    }\n",
       "\n",
       "    .dataframe thead th {\n",
       "        text-align: right;\n",
       "    }\n",
       "</style>\n",
       "<table border=\"1\" class=\"dataframe\">\n",
       "  <thead>\n",
       "    <tr style=\"text-align: right;\">\n",
       "      <th></th>\n",
       "      <th>event</th>\n",
       "      <th>eta</th>\n",
       "      <th>phi</th>\n",
       "      <th>et</th>\n",
       "      <th>position</th>\n",
       "      <th>electron</th>\n",
       "      <th>tau</th>\n",
       "    </tr>\n",
       "  </thead>\n",
       "  <tbody>\n",
       "    <tr>\n",
       "      <th>8</th>\n",
       "      <td>0</td>\n",
       "      <td>0</td>\n",
       "      <td>8</td>\n",
       "      <td>2.85446</td>\n",
       "      <td>1</td>\n",
       "      <td>0</td>\n",
       "      <td>0</td>\n",
       "    </tr>\n",
       "    <tr>\n",
       "      <th>4</th>\n",
       "      <td>0</td>\n",
       "      <td>0</td>\n",
       "      <td>4</td>\n",
       "      <td>5.66144</td>\n",
       "      <td>1</td>\n",
       "      <td>0</td>\n",
       "      <td>0</td>\n",
       "    </tr>\n",
       "    <tr>\n",
       "      <th>11</th>\n",
       "      <td>0</td>\n",
       "      <td>0</td>\n",
       "      <td>11</td>\n",
       "      <td>6.46432</td>\n",
       "      <td>1</td>\n",
       "      <td>0</td>\n",
       "      <td>0</td>\n",
       "    </tr>\n",
       "    <tr>\n",
       "      <th>10</th>\n",
       "      <td>0</td>\n",
       "      <td>0</td>\n",
       "      <td>10</td>\n",
       "      <td>9.09568</td>\n",
       "      <td>1</td>\n",
       "      <td>0</td>\n",
       "      <td>1</td>\n",
       "    </tr>\n",
       "    <tr>\n",
       "      <th>9</th>\n",
       "      <td>0</td>\n",
       "      <td>0</td>\n",
       "      <td>9</td>\n",
       "      <td>11.12570</td>\n",
       "      <td>2</td>\n",
       "      <td>0</td>\n",
       "      <td>1</td>\n",
       "    </tr>\n",
       "    <tr>\n",
       "      <th>15</th>\n",
       "      <td>0</td>\n",
       "      <td>0</td>\n",
       "      <td>15</td>\n",
       "      <td>6.86677</td>\n",
       "      <td>3</td>\n",
       "      <td>0</td>\n",
       "      <td>0</td>\n",
       "    </tr>\n",
       "    <tr>\n",
       "      <th>5</th>\n",
       "      <td>0</td>\n",
       "      <td>0</td>\n",
       "      <td>5</td>\n",
       "      <td>4.74265</td>\n",
       "      <td>3</td>\n",
       "      <td>0</td>\n",
       "      <td>0</td>\n",
       "    </tr>\n",
       "    <tr>\n",
       "      <th>14</th>\n",
       "      <td>0</td>\n",
       "      <td>0</td>\n",
       "      <td>14</td>\n",
       "      <td>9.46717</td>\n",
       "      <td>5</td>\n",
       "      <td>0</td>\n",
       "      <td>1</td>\n",
       "    </tr>\n",
       "    <tr>\n",
       "      <th>12</th>\n",
       "      <td>0</td>\n",
       "      <td>0</td>\n",
       "      <td>12</td>\n",
       "      <td>11.40250</td>\n",
       "      <td>5</td>\n",
       "      <td>1</td>\n",
       "      <td>0</td>\n",
       "    </tr>\n",
       "    <tr>\n",
       "      <th>17</th>\n",
       "      <td>0</td>\n",
       "      <td>0</td>\n",
       "      <td>17</td>\n",
       "      <td>9.95391</td>\n",
       "      <td>5</td>\n",
       "      <td>0</td>\n",
       "      <td>0</td>\n",
       "    </tr>\n",
       "    <tr>\n",
       "      <th>6</th>\n",
       "      <td>0</td>\n",
       "      <td>0</td>\n",
       "      <td>6</td>\n",
       "      <td>11.83710</td>\n",
       "      <td>5</td>\n",
       "      <td>0</td>\n",
       "      <td>0</td>\n",
       "    </tr>\n",
       "    <tr>\n",
       "      <th>1</th>\n",
       "      <td>0</td>\n",
       "      <td>0</td>\n",
       "      <td>1</td>\n",
       "      <td>10.19040</td>\n",
       "      <td>5</td>\n",
       "      <td>0</td>\n",
       "      <td>0</td>\n",
       "    </tr>\n",
       "    <tr>\n",
       "      <th>13</th>\n",
       "      <td>0</td>\n",
       "      <td>0</td>\n",
       "      <td>13</td>\n",
       "      <td>11.48800</td>\n",
       "      <td>6</td>\n",
       "      <td>0</td>\n",
       "      <td>0</td>\n",
       "    </tr>\n",
       "    <tr>\n",
       "      <th>2</th>\n",
       "      <td>0</td>\n",
       "      <td>0</td>\n",
       "      <td>2</td>\n",
       "      <td>7.06514</td>\n",
       "      <td>6</td>\n",
       "      <td>0</td>\n",
       "      <td>0</td>\n",
       "    </tr>\n",
       "    <tr>\n",
       "      <th>0</th>\n",
       "      <td>0</td>\n",
       "      <td>0</td>\n",
       "      <td>0</td>\n",
       "      <td>12.15180</td>\n",
       "      <td>9</td>\n",
       "      <td>0</td>\n",
       "      <td>0</td>\n",
       "    </tr>\n",
       "    <tr>\n",
       "      <th>3</th>\n",
       "      <td>0</td>\n",
       "      <td>0</td>\n",
       "      <td>3</td>\n",
       "      <td>6.87023</td>\n",
       "      <td>14</td>\n",
       "      <td>0</td>\n",
       "      <td>0</td>\n",
       "    </tr>\n",
       "    <tr>\n",
       "      <th>16</th>\n",
       "      <td>0</td>\n",
       "      <td>0</td>\n",
       "      <td>16</td>\n",
       "      <td>10.85700</td>\n",
       "      <td>15</td>\n",
       "      <td>1</td>\n",
       "      <td>0</td>\n",
       "    </tr>\n",
       "    <tr>\n",
       "      <th>7</th>\n",
       "      <td>0</td>\n",
       "      <td>0</td>\n",
       "      <td>7</td>\n",
       "      <td>9.57456</td>\n",
       "      <td>16</td>\n",
       "      <td>1</td>\n",
       "      <td>0</td>\n",
       "    </tr>\n",
       "  </tbody>\n",
       "</table>\n",
       "</div>"
      ],
      "text/plain": [
       "    event  eta  phi        et  position  electron  tau\n",
       "8       0    0    8   2.85446         1         0    0\n",
       "4       0    0    4   5.66144         1         0    0\n",
       "11      0    0   11   6.46432         1         0    0\n",
       "10      0    0   10   9.09568         1         0    1\n",
       "9       0    0    9  11.12570         2         0    1\n",
       "15      0    0   15   6.86677         3         0    0\n",
       "5       0    0    5   4.74265         3         0    0\n",
       "14      0    0   14   9.46717         5         0    1\n",
       "12      0    0   12  11.40250         5         1    0\n",
       "17      0    0   17   9.95391         5         0    0\n",
       "6       0    0    6  11.83710         5         0    0\n",
       "1       0    0    1  10.19040         5         0    0\n",
       "13      0    0   13  11.48800         6         0    0\n",
       "2       0    0    2   7.06514         6         0    0\n",
       "0       0    0    0  12.15180         9         0    0\n",
       "3       0    0    3   6.87023        14         0    0\n",
       "16      0    0   16  10.85700        15         1    0\n",
       "7       0    0    7   9.57456        16         1    0"
      ]
     },
     "execution_count": 23,
     "metadata": {},
     "output_type": "execute_result"
    }
   ],
   "source": [
    "single_cycle_data.sort_values(by='position')"
   ]
  },
  {
   "cell_type": "code",
   "execution_count": 22,
   "metadata": {},
   "outputs": [
    {
     "data": {
      "text/plain": [
       "array([ 0,  1,  2,  3,  4,  5,  6,  7,  8,  9, 10, 11, 12, 13],\n",
       "      dtype=int64)"
      ]
     },
     "execution_count": 22,
     "metadata": {},
     "output_type": "execute_result"
    }
   ],
   "source": [
    "event_data['eta'].unique()"
   ]
  },
  {
   "cell_type": "code",
   "execution_count": null,
   "metadata": {},
   "outputs": [],
   "source": []
  },
  {
   "cell_type": "code",
   "execution_count": null,
   "metadata": {},
   "outputs": [],
   "source": []
  },
  {
   "cell_type": "code",
   "execution_count": null,
   "metadata": {},
   "outputs": [],
   "source": []
  },
  {
   "cell_type": "code",
   "execution_count": 93,
   "metadata": {},
   "outputs": [],
   "source": [
    "# Convert the series into a 14x18 matrix\n",
    "x_elec = np.array(event_data['electron'])\n",
    "matrix_electron = np.asmatrix(x_elec)\n",
    "\n",
    "# Resizing into size 14x18\n",
    "matrix_electron.resize((14, 18))"
   ]
  },
  {
   "cell_type": "markdown",
   "metadata": {},
   "source": [
    "Plotting the values of matrix on 2D plot"
   ]
  },
  {
   "cell_type": "code",
   "execution_count": 12,
   "metadata": {},
   "outputs": [
    {
     "data": {
      "image/png": "[encoded data removed]",
      "text/plain": [
       "<Figure size 1296x432 with 1 Axes>"
      ]
     },
     "metadata": {
      "needs_background": "light"
     },
     "output_type": "display_data"
    }
   ],
   "source": [
    "fig, ax = plt.subplots(figsize = (18, 6))\n",
    "mat = ax.imshow(matrix_electron, cmap='GnBu', interpolation='nearest')\n",
    "\n",
    "# Set attributes\n",
    "plt.ylabel(\"eta\")\n",
    "plt.xlabel(\"phi\")\n",
    "plt.yticks(range(matrix_electron.shape[0]))\n",
    "plt.xticks(range(matrix_electron.shape[1]))\n",
    "plt.title('Electron regions on 14x18 2D plot (event 0)')\n",
    "\n",
    "# this places 0 or 1 centered in the individual squares\n",
    "for x in range(matrix_electron.shape[0]):\n",
    "    for y in range(matrix_electron.shape[1]):\n",
    "        ax.annotate(str(matrix_electron[x, y])[0], xy=(y, x), \n",
    "                    horizontalalignment='center', verticalalignment='center')\n",
    "plt.show()"
   ]
  },
  {
   "cell_type": "markdown",
   "metadata": {},
   "source": [
    "### ET values"
   ]
  },
  {
   "cell_type": "code",
   "execution_count": 13,
   "metadata": {},
   "outputs": [],
   "source": [
    "# Convert the series into a 14x18 matrix\n",
    "x_et = np.array(event_data['et'])\n",
    "matrix_et = np.asmatrix(x_et)\n",
    "\n",
    "# Resizing into size 14x18\n",
    "matrix_et.resize((14, 18))"
   ]
  },
  {
   "cell_type": "markdown",
   "metadata": {},
   "source": [
    "**Plot the 2-D matrix**"
   ]
  },
  {
   "cell_type": "code",
   "execution_count": 109,
   "metadata": {},
   "outputs": [
    {
     "data": {
      "text/plain": [
       "Text(0.5, 1.0, 'ET values on a 14x18 2-D plot')"
      ]
     },
     "execution_count": 109,
     "metadata": {},
     "output_type": "execute_result"
    },
    {
     "data": {
      "image/png": "[encoded data removed]",
      "text/plain": [
       "<Figure size 1296x432 with 1 Axes>"
      ]
     },
     "metadata": {
      "needs_background": "light"
     },
     "output_type": "display_data"
    }
   ],
   "source": [
    "plt.figure(figsize=(18,6))\n",
    "plt.imshow(matrix_et, cmap=plt.cm.coolwarm)\n",
    "plt.yticks(range(matrix_et.shape[0]))\n",
    "plt.xticks(range(matrix_et.shape[1]));\n",
    "plt.title(\"ET values on a 14x18 2-D plot\")"
   ]
  },
  {
   "cell_type": "markdown",
   "metadata": {},
   "source": [
    "### Merge the energies with corresponding values of electron\n",
    "\n",
    "We will now merge the energy of two neighbouring bits containing electron."
   ]
  },
  {
   "cell_type": "code",
   "execution_count": 100,
   "metadata": {},
   "outputs": [],
   "source": [
    "# Geting the matrix as numpy array\n",
    "energy_array = np.array(matrix_et)"
   ]
  },
  {
   "cell_type": "code",
   "execution_count": 107,
   "metadata": {},
   "outputs": [
    {
     "name": "stdout",
     "output_type": "stream",
     "text": [
      "Position prev: (2 , 0)\n",
      "Position : (2 , 1)\n",
      "Position prev: (5 , 5)\n",
      "Position : (5 , 6)\n",
      "Position prev: (11 , 0)\n",
      "Position : (11 , 1)\n"
     ]
    }
   ],
   "source": [
    "# Set initial value of prev val as 0\n",
    "prev_val = 0\n",
    "\n",
    "# Loop through rows of the electron values\n",
    "for i, row in enumerate(np.array(matrix_electron)):\n",
    "    \n",
    "    # Loop through value of electron in each row of the matrix\n",
    "    for j, val in enumerate(row):\n",
    "        \n",
    "        # If the signal value is 1\n",
    "        if val == 1:\n",
    "            \n",
    "            # Check if previous value was also 1\n",
    "            if val == prev_val:\n",
    "                print(\"Position prev: (%s , %s)\" % (i, j-1))\n",
    "                print(\"Position : (%s , %s)\" % (i, j))\n",
    "                \n",
    "                # Get the value of energy (ET) of both the positions\n",
    "                energy1 =  matrix_et.item(i, j-1)\n",
    "                energy2 =  matrix_et.item(i, j)\n",
    "                \n",
    "                # If the first position contains higher ET, merge the energy of both the positions and save it in that position\n",
    "                if energy1>energy2:\n",
    "                    energy_array[i, j-1] = energy_array[i, j-1] + energy_array[i, j]\n",
    "                    energy_array[i, j] = 0 # Set ET of next position as 0\n",
    "                    \n",
    "                # If the second position contains higher ET, merge the energy of both the positions and save it in that position\n",
    "                elif energy1<energy2:\n",
    "                    energy_array[i, j] = energy_array[i, j-1] = energy_array[i, j]\n",
    "                    energy_array[i, j-1] = 0 # Set ET of previous position as 0\n",
    "                \n",
    "                # If the ETs are equal, merge the energy of both the positions and save it in left(first) position\n",
    "                elif energy1==energy2:\n",
    "                    energy_array[i, j-1] = energy_array[i, j-1] + energy_array[i, j]\n",
    "                    energy_array[i, j] = 0 # Set ET of next position as 0\n",
    "\n",
    "        # Set the value of previous value as current value for next iteration\n",
    "        prev_val = val"
   ]
  },
  {
   "cell_type": "markdown",
   "metadata": {},
   "source": [
    "Let us now check the resulting array of ET (energy) which contains 0 energy areas as well."
   ]
  },
  {
   "cell_type": "code",
   "execution_count": 108,
   "metadata": {},
   "outputs": [
    {
     "data": {
      "text/plain": [
       "array([[12.1518  , 10.1904  ,  7.06514 ,  6.87023 ,  5.66144 ,  4.74265 ,\n",
       "        11.8371  ,  9.57456 ,  2.85446 , 11.1257  ,  9.09568 ,  6.46432 ,\n",
       "        11.4025  , 11.488   ,  9.46717 ,  6.86677 , 10.857   ,  9.95391 ],\n",
       "       [12.9616  , 11.627   ,  6.9384  , 11.8455  ,  6.85379 ,  4.79889 ,\n",
       "         8.95338 ,  5.232   , 11.8398  ,  5.21986 , 10.2813  , 16.6035  ,\n",
       "         6.40747 , 17.8355  , 61.2263  , 12.8545  ,  8.34197 ,  7.65753 ],\n",
       "       [ 0.      , 10.9044  , 13.5767  ,  6.55393 , 11.0815  , 13.6121  ,\n",
       "        13.5853  , 12.0453  , 14.323   ,  9.66951 ,  9.5082  , 12.1601  ,\n",
       "         9.13667 , 12.0633  ,  7.60152 ,  7.42437 , 10.3129  , 12.6219  ],\n",
       "       [11.3169  , 12.5299  , 11.3731  ,  9.64484 ,  6.42877 ,  8.32366 ,\n",
       "        12.3695  , 12.5982  ,  9.27314 ,  9.30789 , 10.0052  , 11.9414  ,\n",
       "         9.16978 , 11.23    , 11.2227  ,  3.31536 , 14.2439  , 12.9276  ],\n",
       "       [ 6.1857  , 11.8325  ,  8.75215 , 11.3837  ,  7.08786 , 13.8312  ,\n",
       "         9.55222 , 10.4509  , 10.3751  ,  9.08587 , 15.8533  ,  4.43838 ,\n",
       "         8.03451 , 11.4822  ,  8.34314 ,  9.19813 , 12.1078  , 12.0926  ],\n",
       "       [13.0866  , 15.7572  , 12.9906  , 18.6543  ,  4.05151 ,  0.      ,\n",
       "        12.701   , -0.745879, 11.601   , 14.033   ,  8.30808 , 13.325   ,\n",
       "         7.27571 , 11.5001  ,  9.19408 ,  4.63305 ,  9.82317 , 10.6596  ],\n",
       "       [ 6.33679 , 10.6675  , 11.8046  , 13.263   , 11.1262  , 10.0031  ,\n",
       "         9.0536  ,  7.3896  , 10.1759  ,  9.74713 ,  9.39039 , 11.2248  ,\n",
       "         5.03752 ,  8.02601 ,  4.56413 , 10.0824  , 11.5667  , 10.4078  ],\n",
       "       [ 7.75467 , 12.6545  , 11.5246  , 14.6944  ,  8.13181 , 10.7532  ,\n",
       "         6.63563 , 12.5636  ,  7.48365 ,  8.73286 ,  9.12776 , 13.759   ,\n",
       "         9.21065 ,  7.08506 ,  8.50761 , 13.4398  , 13.899   ,  6.53273 ],\n",
       "       [11.0402  , 10.0164  ,  6.16813 ,  7.01861 , 12.3399  ,  8.50536 ,\n",
       "        10.7176  , 10.0644  ,  8.22667 ,  7.62345 , 12.3466  ,  9.49289 ,\n",
       "         9.54681 , 12.8419  , 10.6626  , 14.2358  ,  7.73671 , 10.8156  ],\n",
       "       [ 9.80431 ,  3.67136 ,  9.98312 , 13.3054  , 11.5433  ,  8.36641 ,\n",
       "        14.1527  , 13.2573  , 10.8779  , 12.1478  ,  6.13686 ,  9.5764  ,\n",
       "        10.6401  ,  7.61778 , 14.288   ,  9.79075 ,  8.94155 ,  9.51029 ],\n",
       "       [10.8411  , 11.4677  ,  5.9021  , 10.6057  ,  8.93974 , 13.9714  ,\n",
       "        16.155   , 10.1115  ,  9.86923 ,  4.73664 , 12.4615  ,  8.00115 ,\n",
       "         8.05086 ,  8.67809 ,  6.26773 , 12.4262  , 10.4153  , 13.0581  ],\n",
       "       [18.50671 ,  0.      ,  5.73545 ,  9.12863 , 11.2424  , 13.8648  ,\n",
       "        16.053   , 11.6642  ,  4.03261 ,  7.89124 , 10.9167  ,  8.46358 ,\n",
       "        11.2061  , 10.595   , 16.2155  , 10.7082  ,  5.46468 , 18.4761  ],\n",
       "       [ 9.25593 , 11.3429  ,  7.40816 , 10.5647  , 10.9396  , 10.6948  ,\n",
       "        14.9506  ,  9.89205 , 14.4902  , 11.9509  , 12.1761  ,  8.99125 ,\n",
       "        10.4763  , 11.8874  ,  6.47491 ,  6.28718 , 14.7711  , 10.2409  ],\n",
       "       [ 8.26761 ,  7.4453  ,  6.60784 ,  9.50375 , 11.7429  , 13.6573  ,\n",
       "        11.4718  ,  8.92157 , 11.6801  ,  5.38932 ,  5.04108 ,  9.4784  ,\n",
       "        12.708   ,  7.37473 ,  7.3604  , 12.0785  ,  6.50245 , 11.907   ]])"
      ]
     },
     "execution_count": 108,
     "metadata": {},
     "output_type": "execute_result"
    }
   ],
   "source": [
    "energy_array"
   ]
  },
  {
   "cell_type": "markdown",
   "metadata": {},
   "source": [
    "**Plot the 2-D matrix**"
   ]
  },
  {
   "cell_type": "code",
   "execution_count": 110,
   "metadata": {},
   "outputs": [
    {
     "data": {
      "text/plain": [
       "Text(0.5, 1.0, 'ET values on a 14x18 2-D plot')"
      ]
     },
     "execution_count": 110,
     "metadata": {},
     "output_type": "execute_result"
    },
    {
     "data": {
      "image/png": "[encoded data removed]",
      "text/plain": [
       "<Figure size 1296x432 with 1 Axes>"
      ]
     },
     "metadata": {
      "needs_background": "light"
     },
     "output_type": "display_data"
    }
   ],
   "source": [
    "plt.figure(figsize=(18,6))\n",
    "plt.imshow(energy_array, cmap=plt.cm.coolwarm)\n",
    "plt.yticks(range(energy_array.shape[0]))\n",
    "plt.xticks(range(energy_array.shape[1]));\n",
    "plt.title(\"ET values on a 14x18 2-D plot\")"
   ]
  },
  {
   "cell_type": "markdown",
   "metadata": {},
   "source": [
    "### Reduce the dimensions of the matrix using 2x2 regions max\n",
    "\n",
    "We will now reduce the dimensions of our matrix from 14x18 to 7x9 using 2x2 region max pooling, i.e., eplacing 2x2 regions by only the highest value of ET (energy)."
   ]
  },
  {
   "cell_type": "code",
   "execution_count": 111,
   "metadata": {},
   "outputs": [],
   "source": [
    "reduced_et_matrix = skimage.measure.block_reduce(energy_array, (2,2), np.max)"
   ]
  },
  {
   "cell_type": "code",
   "execution_count": 112,
   "metadata": {},
   "outputs": [
    {
     "data": {
      "text/plain": [
       "(7, 9)"
      ]
     },
     "execution_count": 112,
     "metadata": {},
     "output_type": "execute_result"
    }
   ],
   "source": [
    "reduced_et_matrix.shape"
   ]
  },
  {
   "cell_type": "markdown",
   "metadata": {},
   "source": [
    "**Plot the 2-D matrix**"
   ]
  },
  {
   "cell_type": "code",
   "execution_count": 113,
   "metadata": {},
   "outputs": [
    {
     "data": {
      "image/png": "[encoded data removed]",
      "text/plain": [
       "<Figure size 1296x432 with 1 Axes>"
      ]
     },
     "metadata": {
      "needs_background": "light"
     },
     "output_type": "display_data"
    }
   ],
   "source": [
    "plt.figure(figsize=(18,6))\n",
    "plt.imshow(reduced_et_matrix, cmap=plt.cm.coolwarm)\n",
    "plt.yticks(range(reduced_et_matrix.shape[0]))\n",
    "plt.xticks(range(reduced_et_matrix.shape[1]));\n",
    "plt.title(\"ET values on a 7x9 2-D plot\");"
   ]
  },
  {
   "cell_type": "code",
   "execution_count": 123,
   "metadata": {},
   "outputs": [
    {
     "data": {
      "text/html": [
       "<style  type=\"text/css\" >\n",
       "    #T_efca2cdb_75db_11eb_9ce5_701ce7ac6322row0_col0 {\n",
       "            background-color:  #ababff;\n",
       "            color:  #000000;\n",
       "        }    #T_efca2cdb_75db_11eb_9ce5_701ce7ac6322row0_col1 {\n",
       "            background-color:  #c2c2ff;\n",
       "            color:  #000000;\n",
       "        }    #T_efca2cdb_75db_11eb_9ce5_701ce7ac6322row0_col2 {\n",
       "            background-color:  #e5e5ff;\n",
       "            color:  #000000;\n",
       "        }    #T_efca2cdb_75db_11eb_9ce5_701ce7ac6322row0_col3 {\n",
       "            background-color:  #e5e5ff;\n",
       "            color:  #000000;\n",
       "        }    #T_efca2cdb_75db_11eb_9ce5_701ce7ac6322row0_col4 {\n",
       "            background-color:  #8383ff;\n",
       "            color:  #000000;\n",
       "        }    #T_efca2cdb_75db_11eb_9ce5_701ce7ac6322row0_col5 {\n",
       "            background-color:  #0000ff;\n",
       "            color:  #f1f1f1;\n",
       "        }    #T_efca2cdb_75db_11eb_9ce5_701ce7ac6322row0_col6 {\n",
       "            background-color:  #0000ff;\n",
       "            color:  #f1f1f1;\n",
       "        }    #T_efca2cdb_75db_11eb_9ce5_701ce7ac6322row0_col7 {\n",
       "            background-color:  #0000ff;\n",
       "            color:  #f1f1f1;\n",
       "        }    #T_efca2cdb_75db_11eb_9ce5_701ce7ac6322row0_col8 {\n",
       "            background-color:  #e5e5ff;\n",
       "            color:  #000000;\n",
       "        }    #T_efca2cdb_75db_11eb_9ce5_701ce7ac6322row1_col0 {\n",
       "            background-color:  #b8b8ff;\n",
       "            color:  #000000;\n",
       "        }    #T_efca2cdb_75db_11eb_9ce5_701ce7ac6322row1_col1 {\n",
       "            background-color:  #9090ff;\n",
       "            color:  #000000;\n",
       "        }    #T_efca2cdb_75db_11eb_9ce5_701ce7ac6322row1_col2 {\n",
       "            background-color:  #0b0bff;\n",
       "            color:  #f1f1f1;\n",
       "        }    #T_efca2cdb_75db_11eb_9ce5_701ce7ac6322row1_col3 {\n",
       "            background-color:  #8989ff;\n",
       "            color:  #000000;\n",
       "        }    #T_efca2cdb_75db_11eb_9ce5_701ce7ac6322row1_col4 {\n",
       "            background-color:  #0808ff;\n",
       "            color:  #f1f1f1;\n",
       "        }    #T_efca2cdb_75db_11eb_9ce5_701ce7ac6322row1_col5 {\n",
       "            background-color:  #e5e5ff;\n",
       "            color:  #000000;\n",
       "        }    #T_efca2cdb_75db_11eb_9ce5_701ce7ac6322row1_col6 {\n",
       "            background-color:  #9a9aff;\n",
       "            color:  #000000;\n",
       "        }    #T_efca2cdb_75db_11eb_9ce5_701ce7ac6322row1_col7 {\n",
       "            background-color:  #ddddff;\n",
       "            color:  #000000;\n",
       "        }    #T_efca2cdb_75db_11eb_9ce5_701ce7ac6322row1_col8 {\n",
       "            background-color:  #7f7fff;\n",
       "            color:  #000000;\n",
       "        }    #T_efca2cdb_75db_11eb_9ce5_701ce7ac6322row2_col0 {\n",
       "            background-color:  #5555ff;\n",
       "            color:  #f1f1f1;\n",
       "        }    #T_efca2cdb_75db_11eb_9ce5_701ce7ac6322row2_col1 {\n",
       "            background-color:  #0000ff;\n",
       "            color:  #f1f1f1;\n",
       "        }    #T_efca2cdb_75db_11eb_9ce5_701ce7ac6322row2_col2 {\n",
       "            background-color:  #0505ff;\n",
       "            color:  #f1f1f1;\n",
       "        }    #T_efca2cdb_75db_11eb_9ce5_701ce7ac6322row2_col3 {\n",
       "            background-color:  #b8b8ff;\n",
       "            color:  #000000;\n",
       "        }    #T_efca2cdb_75db_11eb_9ce5_701ce7ac6322row2_col4 {\n",
       "            background-color:  #1717ff;\n",
       "            color:  #f1f1f1;\n",
       "        }    #T_efca2cdb_75db_11eb_9ce5_701ce7ac6322row2_col5 {\n",
       "            background-color:  #2727ff;\n",
       "            color:  #f1f1f1;\n",
       "        }    #T_efca2cdb_75db_11eb_9ce5_701ce7ac6322row2_col6 {\n",
       "            background-color:  #a9a9ff;\n",
       "            color:  #000000;\n",
       "        }    #T_efca2cdb_75db_11eb_9ce5_701ce7ac6322row2_col7 {\n",
       "            background-color:  #e5e5ff;\n",
       "            color:  #000000;\n",
       "        }    #T_efca2cdb_75db_11eb_9ce5_701ce7ac6322row2_col8 {\n",
       "            background-color:  #bfbfff;\n",
       "            color:  #000000;\n",
       "        }    #T_efca2cdb_75db_11eb_9ce5_701ce7ac6322row3_col0 {\n",
       "            background-color:  #b4b4ff;\n",
       "            color:  #000000;\n",
       "        }    #T_efca2cdb_75db_11eb_9ce5_701ce7ac6322row3_col1 {\n",
       "            background-color:  #7070ff;\n",
       "            color:  #000000;\n",
       "        }    #T_efca2cdb_75db_11eb_9ce5_701ce7ac6322row3_col2 {\n",
       "            background-color:  #5c5cff;\n",
       "            color:  #f1f1f1;\n",
       "        }    #T_efca2cdb_75db_11eb_9ce5_701ce7ac6322row3_col3 {\n",
       "            background-color:  #bfbfff;\n",
       "            color:  #000000;\n",
       "        }    #T_efca2cdb_75db_11eb_9ce5_701ce7ac6322row3_col4 {\n",
       "            background-color:  #d7d7ff;\n",
       "            color:  #000000;\n",
       "        }    #T_efca2cdb_75db_11eb_9ce5_701ce7ac6322row3_col5 {\n",
       "            background-color:  #9393ff;\n",
       "            color:  #000000;\n",
       "        }    #T_efca2cdb_75db_11eb_9ce5_701ce7ac6322row3_col6 {\n",
       "            background-color:  #e5e5ff;\n",
       "            color:  #000000;\n",
       "        }    #T_efca2cdb_75db_11eb_9ce5_701ce7ac6322row3_col7 {\n",
       "            background-color:  #d3d3ff;\n",
       "            color:  #000000;\n",
       "        }    #T_efca2cdb_75db_11eb_9ce5_701ce7ac6322row3_col8 {\n",
       "            background-color:  #8989ff;\n",
       "            color:  #000000;\n",
       "        }    #T_efca2cdb_75db_11eb_9ce5_701ce7ac6322row4_col0 {\n",
       "            background-color:  #e5e5ff;\n",
       "            color:  #000000;\n",
       "        }    #T_efca2cdb_75db_11eb_9ce5_701ce7ac6322row4_col1 {\n",
       "            background-color:  #9898ff;\n",
       "            color:  #000000;\n",
       "        }    #T_efca2cdb_75db_11eb_9ce5_701ce7ac6322row4_col2 {\n",
       "            background-color:  #3434ff;\n",
       "            color:  #f1f1f1;\n",
       "        }    #T_efca2cdb_75db_11eb_9ce5_701ce7ac6322row4_col3 {\n",
       "            background-color:  #6a6aff;\n",
       "            color:  #000000;\n",
       "        }    #T_efca2cdb_75db_11eb_9ce5_701ce7ac6322row4_col4 {\n",
       "            background-color:  #7474ff;\n",
       "            color:  #000000;\n",
       "        }    #T_efca2cdb_75db_11eb_9ce5_701ce7ac6322row4_col5 {\n",
       "            background-color:  #dcdcff;\n",
       "            color:  #000000;\n",
       "        }    #T_efca2cdb_75db_11eb_9ce5_701ce7ac6322row4_col6 {\n",
       "            background-color:  #8585ff;\n",
       "            color:  #000000;\n",
       "        }    #T_efca2cdb_75db_11eb_9ce5_701ce7ac6322row4_col7 {\n",
       "            background-color:  #cfcfff;\n",
       "            color:  #000000;\n",
       "        }    #T_efca2cdb_75db_11eb_9ce5_701ce7ac6322row4_col8 {\n",
       "            background-color:  #e5e5ff;\n",
       "            color:  #000000;\n",
       "        }    #T_efca2cdb_75db_11eb_9ce5_701ce7ac6322row5_col0 {\n",
       "            background-color:  #0000ff;\n",
       "            color:  #f1f1f1;\n",
       "        }    #T_efca2cdb_75db_11eb_9ce5_701ce7ac6322row5_col1 {\n",
       "            background-color:  #e5e5ff;\n",
       "            color:  #000000;\n",
       "        }    #T_efca2cdb_75db_11eb_9ce5_701ce7ac6322row5_col2 {\n",
       "            background-color:  #0000ff;\n",
       "            color:  #f1f1f1;\n",
       "        }    #T_efca2cdb_75db_11eb_9ce5_701ce7ac6322row5_col3 {\n",
       "            background-color:  #0000ff;\n",
       "            color:  #f1f1f1;\n",
       "        }    #T_efca2cdb_75db_11eb_9ce5_701ce7ac6322row5_col4 {\n",
       "            background-color:  #e5e5ff;\n",
       "            color:  #000000;\n",
       "        }    #T_efca2cdb_75db_11eb_9ce5_701ce7ac6322row5_col5 {\n",
       "            background-color:  #d6d6ff;\n",
       "            color:  #000000;\n",
       "        }    #T_efca2cdb_75db_11eb_9ce5_701ce7ac6322row5_col6 {\n",
       "            background-color:  #b0b0ff;\n",
       "            color:  #000000;\n",
       "        }    #T_efca2cdb_75db_11eb_9ce5_701ce7ac6322row5_col7 {\n",
       "            background-color:  #c7c7ff;\n",
       "            color:  #000000;\n",
       "        }    #T_efca2cdb_75db_11eb_9ce5_701ce7ac6322row5_col8 {\n",
       "            background-color:  #0000ff;\n",
       "            color:  #f1f1f1;\n",
       "        }    #T_efca2cdb_75db_11eb_9ce5_701ce7ac6322row6_col0 {\n",
       "            background-color:  #dcdcff;\n",
       "            color:  #000000;\n",
       "        }    #T_efca2cdb_75db_11eb_9ce5_701ce7ac6322row6_col1 {\n",
       "            background-color:  #e5e5ff;\n",
       "            color:  #000000;\n",
       "        }    #T_efca2cdb_75db_11eb_9ce5_701ce7ac6322row6_col2 {\n",
       "            background-color:  #0a0aff;\n",
       "            color:  #f1f1f1;\n",
       "        }    #T_efca2cdb_75db_11eb_9ce5_701ce7ac6322row6_col3 {\n",
       "            background-color:  #4040ff;\n",
       "            color:  #f1f1f1;\n",
       "        }    #T_efca2cdb_75db_11eb_9ce5_701ce7ac6322row6_col4 {\n",
       "            background-color:  #0000ff;\n",
       "            color:  #f1f1f1;\n",
       "        }    #T_efca2cdb_75db_11eb_9ce5_701ce7ac6322row6_col5 {\n",
       "            background-color:  #e5e5ff;\n",
       "            color:  #000000;\n",
       "        }    #T_efca2cdb_75db_11eb_9ce5_701ce7ac6322row6_col6 {\n",
       "            background-color:  #8989ff;\n",
       "            color:  #000000;\n",
       "        }    #T_efca2cdb_75db_11eb_9ce5_701ce7ac6322row6_col7 {\n",
       "            background-color:  #d9d9ff;\n",
       "            color:  #000000;\n",
       "        }    #T_efca2cdb_75db_11eb_9ce5_701ce7ac6322row6_col8 {\n",
       "            background-color:  #6f6fff;\n",
       "            color:  #000000;\n",
       "        }</style><table id=\"T_efca2cdb_75db_11eb_9ce5_701ce7ac6322\" ><thead>    <tr>        <th class=\"blank level0\" ></th>        <th class=\"col_heading level0 col0\" >0</th>        <th class=\"col_heading level0 col1\" >1</th>        <th class=\"col_heading level0 col2\" >2</th>        <th class=\"col_heading level0 col3\" >3</th>        <th class=\"col_heading level0 col4\" >4</th>        <th class=\"col_heading level0 col5\" >5</th>        <th class=\"col_heading level0 col6\" >6</th>        <th class=\"col_heading level0 col7\" >7</th>        <th class=\"col_heading level0 col8\" >8</th>    </tr></thead><tbody>\n",
       "                <tr>\n",
       "                        <th id=\"T_efca2cdb_75db_11eb_9ce5_701ce7ac6322level0_row0\" class=\"row_heading level0 row0\" >0</th>\n",
       "                        <td id=\"T_efca2cdb_75db_11eb_9ce5_701ce7ac6322row0_col0\" class=\"data row0 col0\" >12.961600</td>\n",
       "                        <td id=\"T_efca2cdb_75db_11eb_9ce5_701ce7ac6322row0_col1\" class=\"data row0 col1\" >11.845500</td>\n",
       "                        <td id=\"T_efca2cdb_75db_11eb_9ce5_701ce7ac6322row0_col2\" class=\"data row0 col2\" >6.853790</td>\n",
       "                        <td id=\"T_efca2cdb_75db_11eb_9ce5_701ce7ac6322row0_col3\" class=\"data row0 col3\" >11.837100</td>\n",
       "                        <td id=\"T_efca2cdb_75db_11eb_9ce5_701ce7ac6322row0_col4\" class=\"data row0 col4\" >11.839800</td>\n",
       "                        <td id=\"T_efca2cdb_75db_11eb_9ce5_701ce7ac6322row0_col5\" class=\"data row0 col5\" >16.603500</td>\n",
       "                        <td id=\"T_efca2cdb_75db_11eb_9ce5_701ce7ac6322row0_col6\" class=\"data row0 col6\" >17.835500</td>\n",
       "                        <td id=\"T_efca2cdb_75db_11eb_9ce5_701ce7ac6322row0_col7\" class=\"data row0 col7\" >61.226300</td>\n",
       "                        <td id=\"T_efca2cdb_75db_11eb_9ce5_701ce7ac6322row0_col8\" class=\"data row0 col8\" >10.857000</td>\n",
       "            </tr>\n",
       "            <tr>\n",
       "                        <th id=\"T_efca2cdb_75db_11eb_9ce5_701ce7ac6322level0_row1\" class=\"row_heading level0 row1\" >1</th>\n",
       "                        <td id=\"T_efca2cdb_75db_11eb_9ce5_701ce7ac6322row1_col0\" class=\"data row1 col0\" >12.529900</td>\n",
       "                        <td id=\"T_efca2cdb_75db_11eb_9ce5_701ce7ac6322row1_col1\" class=\"data row1 col1\" >13.576700</td>\n",
       "                        <td id=\"T_efca2cdb_75db_11eb_9ce5_701ce7ac6322row1_col2\" class=\"data row1 col2\" >13.612100</td>\n",
       "                        <td id=\"T_efca2cdb_75db_11eb_9ce5_701ce7ac6322row1_col3\" class=\"data row1 col3\" >13.585300</td>\n",
       "                        <td id=\"T_efca2cdb_75db_11eb_9ce5_701ce7ac6322row1_col4\" class=\"data row1 col4\" >14.323000</td>\n",
       "                        <td id=\"T_efca2cdb_75db_11eb_9ce5_701ce7ac6322row1_col5\" class=\"data row1 col5\" >12.160100</td>\n",
       "                        <td id=\"T_efca2cdb_75db_11eb_9ce5_701ce7ac6322row1_col6\" class=\"data row1 col6\" >12.063300</td>\n",
       "                        <td id=\"T_efca2cdb_75db_11eb_9ce5_701ce7ac6322row1_col7\" class=\"data row1 col7\" >11.222700</td>\n",
       "                        <td id=\"T_efca2cdb_75db_11eb_9ce5_701ce7ac6322row1_col8\" class=\"data row1 col8\" >14.243900</td>\n",
       "            </tr>\n",
       "            <tr>\n",
       "                        <th id=\"T_efca2cdb_75db_11eb_9ce5_701ce7ac6322level0_row2\" class=\"row_heading level0 row2\" >2</th>\n",
       "                        <td id=\"T_efca2cdb_75db_11eb_9ce5_701ce7ac6322row2_col0\" class=\"data row2 col0\" >15.757200</td>\n",
       "                        <td id=\"T_efca2cdb_75db_11eb_9ce5_701ce7ac6322row2_col1\" class=\"data row2 col1\" >18.654300</td>\n",
       "                        <td id=\"T_efca2cdb_75db_11eb_9ce5_701ce7ac6322row2_col2\" class=\"data row2 col2\" >13.831200</td>\n",
       "                        <td id=\"T_efca2cdb_75db_11eb_9ce5_701ce7ac6322row2_col3\" class=\"data row2 col3\" >12.701000</td>\n",
       "                        <td id=\"T_efca2cdb_75db_11eb_9ce5_701ce7ac6322row2_col4\" class=\"data row2 col4\" >14.033000</td>\n",
       "                        <td id=\"T_efca2cdb_75db_11eb_9ce5_701ce7ac6322row2_col5\" class=\"data row2 col5\" >15.853300</td>\n",
       "                        <td id=\"T_efca2cdb_75db_11eb_9ce5_701ce7ac6322row2_col6\" class=\"data row2 col6\" >11.500100</td>\n",
       "                        <td id=\"T_efca2cdb_75db_11eb_9ce5_701ce7ac6322row2_col7\" class=\"data row2 col7\" >9.198130</td>\n",
       "                        <td id=\"T_efca2cdb_75db_11eb_9ce5_701ce7ac6322row2_col8\" class=\"data row2 col8\" >12.107800</td>\n",
       "            </tr>\n",
       "            <tr>\n",
       "                        <th id=\"T_efca2cdb_75db_11eb_9ce5_701ce7ac6322level0_row3\" class=\"row_heading level0 row3\" >3</th>\n",
       "                        <td id=\"T_efca2cdb_75db_11eb_9ce5_701ce7ac6322row3_col0\" class=\"data row3 col0\" >12.654500</td>\n",
       "                        <td id=\"T_efca2cdb_75db_11eb_9ce5_701ce7ac6322row3_col1\" class=\"data row3 col1\" >14.694400</td>\n",
       "                        <td id=\"T_efca2cdb_75db_11eb_9ce5_701ce7ac6322row3_col2\" class=\"data row3 col2\" >11.126200</td>\n",
       "                        <td id=\"T_efca2cdb_75db_11eb_9ce5_701ce7ac6322row3_col3\" class=\"data row3 col3\" >12.563600</td>\n",
       "                        <td id=\"T_efca2cdb_75db_11eb_9ce5_701ce7ac6322row3_col4\" class=\"data row3 col4\" >10.175900</td>\n",
       "                        <td id=\"T_efca2cdb_75db_11eb_9ce5_701ce7ac6322row3_col5\" class=\"data row3 col5\" >13.759000</td>\n",
       "                        <td id=\"T_efca2cdb_75db_11eb_9ce5_701ce7ac6322row3_col6\" class=\"data row3 col6\" >9.210650</td>\n",
       "                        <td id=\"T_efca2cdb_75db_11eb_9ce5_701ce7ac6322row3_col7\" class=\"data row3 col7\" >13.439800</td>\n",
       "                        <td id=\"T_efca2cdb_75db_11eb_9ce5_701ce7ac6322row3_col8\" class=\"data row3 col8\" >13.899000</td>\n",
       "            </tr>\n",
       "            <tr>\n",
       "                        <th id=\"T_efca2cdb_75db_11eb_9ce5_701ce7ac6322level0_row4\" class=\"row_heading level0 row4\" >4</th>\n",
       "                        <td id=\"T_efca2cdb_75db_11eb_9ce5_701ce7ac6322row4_col0\" class=\"data row4 col0\" >11.040200</td>\n",
       "                        <td id=\"T_efca2cdb_75db_11eb_9ce5_701ce7ac6322row4_col1\" class=\"data row4 col1\" >13.305400</td>\n",
       "                        <td id=\"T_efca2cdb_75db_11eb_9ce5_701ce7ac6322row4_col2\" class=\"data row4 col2\" >12.339900</td>\n",
       "                        <td id=\"T_efca2cdb_75db_11eb_9ce5_701ce7ac6322row4_col3\" class=\"data row4 col3\" >14.152700</td>\n",
       "                        <td id=\"T_efca2cdb_75db_11eb_9ce5_701ce7ac6322row4_col4\" class=\"data row4 col4\" >12.147800</td>\n",
       "                        <td id=\"T_efca2cdb_75db_11eb_9ce5_701ce7ac6322row4_col5\" class=\"data row4 col5\" >12.346600</td>\n",
       "                        <td id=\"T_efca2cdb_75db_11eb_9ce5_701ce7ac6322row4_col6\" class=\"data row4 col6\" >12.841900</td>\n",
       "                        <td id=\"T_efca2cdb_75db_11eb_9ce5_701ce7ac6322row4_col7\" class=\"data row4 col7\" >14.288000</td>\n",
       "                        <td id=\"T_efca2cdb_75db_11eb_9ce5_701ce7ac6322row4_col8\" class=\"data row4 col8\" >10.815600</td>\n",
       "            </tr>\n",
       "            <tr>\n",
       "                        <th id=\"T_efca2cdb_75db_11eb_9ce5_701ce7ac6322level0_row5\" class=\"row_heading level0 row5\" >5</th>\n",
       "                        <td id=\"T_efca2cdb_75db_11eb_9ce5_701ce7ac6322row5_col0\" class=\"data row5 col0\" >18.506710</td>\n",
       "                        <td id=\"T_efca2cdb_75db_11eb_9ce5_701ce7ac6322row5_col1\" class=\"data row5 col1\" >10.605700</td>\n",
       "                        <td id=\"T_efca2cdb_75db_11eb_9ce5_701ce7ac6322row5_col2\" class=\"data row5 col2\" >13.971400</td>\n",
       "                        <td id=\"T_efca2cdb_75db_11eb_9ce5_701ce7ac6322row5_col3\" class=\"data row5 col3\" >16.155000</td>\n",
       "                        <td id=\"T_efca2cdb_75db_11eb_9ce5_701ce7ac6322row5_col4\" class=\"data row5 col4\" >9.869230</td>\n",
       "                        <td id=\"T_efca2cdb_75db_11eb_9ce5_701ce7ac6322row5_col5\" class=\"data row5 col5\" >12.461500</td>\n",
       "                        <td id=\"T_efca2cdb_75db_11eb_9ce5_701ce7ac6322row5_col6\" class=\"data row5 col6\" >11.206100</td>\n",
       "                        <td id=\"T_efca2cdb_75db_11eb_9ce5_701ce7ac6322row5_col7\" class=\"data row5 col7\" >16.215500</td>\n",
       "                        <td id=\"T_efca2cdb_75db_11eb_9ce5_701ce7ac6322row5_col8\" class=\"data row5 col8\" >18.476100</td>\n",
       "            </tr>\n",
       "            <tr>\n",
       "                        <th id=\"T_efca2cdb_75db_11eb_9ce5_701ce7ac6322level0_row6\" class=\"row_heading level0 row6\" >6</th>\n",
       "                        <td id=\"T_efca2cdb_75db_11eb_9ce5_701ce7ac6322row6_col0\" class=\"data row6 col0\" >11.342900</td>\n",
       "                        <td id=\"T_efca2cdb_75db_11eb_9ce5_701ce7ac6322row6_col1\" class=\"data row6 col1\" >10.564700</td>\n",
       "                        <td id=\"T_efca2cdb_75db_11eb_9ce5_701ce7ac6322row6_col2\" class=\"data row6 col2\" >13.657300</td>\n",
       "                        <td id=\"T_efca2cdb_75db_11eb_9ce5_701ce7ac6322row6_col3\" class=\"data row6 col3\" >14.950600</td>\n",
       "                        <td id=\"T_efca2cdb_75db_11eb_9ce5_701ce7ac6322row6_col4\" class=\"data row6 col4\" >14.490200</td>\n",
       "                        <td id=\"T_efca2cdb_75db_11eb_9ce5_701ce7ac6322row6_col5\" class=\"data row6 col5\" >12.176100</td>\n",
       "                        <td id=\"T_efca2cdb_75db_11eb_9ce5_701ce7ac6322row6_col6\" class=\"data row6 col6\" >12.708000</td>\n",
       "                        <td id=\"T_efca2cdb_75db_11eb_9ce5_701ce7ac6322row6_col7\" class=\"data row6 col7\" >12.078500</td>\n",
       "                        <td id=\"T_efca2cdb_75db_11eb_9ce5_701ce7ac6322row6_col8\" class=\"data row6 col8\" >14.771100</td>\n",
       "            </tr>\n",
       "    </tbody></table>"
      ],
      "text/plain": [
       "<pandas.io.formats.style.Styler at 0x1930732bf10>"
      ]
     },
     "metadata": {},
     "output_type": "display_data"
    }
   ],
   "source": [
    "cm = sns.light_palette(\"blue\", as_cmap=True)\n",
    "x = pd.DataFrame(reduced_et_matrix)\n",
    "x = x.style.background_gradient(cmap = cm)\n",
    "display(x)"
   ]
  },
  {
   "cell_type": "markdown",
   "metadata": {},
   "source": [
    "### Reduce the dimensions of the matrix using 2x2 regions electrons\n",
    "\n",
    "We will now reduce the dimensions of our matrix from 14x18 to 7x9 using 2x2 region electrons.\n",
    "\n",
    "The pos numbers in the small squares are the 4-bit position within the UCTRegion. Each 4x4 square of similarly colored 16 “towers” forms a UCTRegion. The UCTRegion object represents the summary for that 4x4 square. Summary includes where the energy weighted center is. That is the “pos” value for that UCTRegion. It could go 0 through 15 and the numbering is as I wrote on the PDF picture.\n"
   ]
  },
  {
   "cell_type": "markdown",
   "metadata": {},
   "source": [
    "### Sort electrons in decreasing order of ET\n",
    "\n",
    "We will now only get 6 electrons in decreasing order of ET from highest to lowest."
   ]
  },
  {
   "cell_type": "markdown",
   "metadata": {},
   "source": [
    "- You have 18x14 such colored UCT regions \n",
    "- Select highest two electrons in each 2x2 UCT region –if there is no electron set ET=0, ele=0,pos=0 \n",
    "- This will lead to exactly 9x7 =63“electrons” –some of which may be 0\n",
    "- Then sort those on decreasing order of electron ET, keeping track of region index and keep 6 electrons."
   ]
  }
 ],
 "metadata": {
  "kernelspec": {
   "display_name": "Python 3",
   "language": "python",
   "name": "python3"
  },
  "language_info": {
   "codemirror_mode": {
    "name": "ipython",
    "version": 3
   },
   "file_extension": ".py",
   "mimetype": "text/x-python",
   "name": "python",
   "nbconvert_exporter": "python",
   "pygments_lexer": "ipython3",
   "version": "3.8.3"
  }
 },
 "nbformat": 4,
 "nbformat_minor": 4
}
