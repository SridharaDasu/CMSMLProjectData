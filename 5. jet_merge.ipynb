{
 "cells": [
  {
   "cell_type": "code",
   "execution_count": 1,
   "metadata": {},
   "outputs": [],
   "source": [
    "# Importing necessary libraries\n",
    "import pandas as pd\n",
    "import matplotlib.pyplot as plt\n",
    "import numpy as np\n",
    "import seaborn as sns\n",
    "from skimage.util import view_as_blocks\n",
    "\n",
    "# %matplotlib inline"
   ]
  },
  {
   "cell_type": "markdown",
   "metadata": {},
   "source": [
    "### Importing the data\n",
    "\n",
    "We are using the Electron Region data."
   ]
  },
  {
   "cell_type": "code",
   "execution_count": 2,
   "metadata": {},
   "outputs": [],
   "source": [
    "event_data = pd.read_csv(\"output_data/Event_one_Electron.csv\") # Electron Region Event one"
   ]
  },
  {
   "cell_type": "code",
   "execution_count": 3,
   "metadata": {},
   "outputs": [
    {
     "data": {
      "text/html": [
       "<div>\n",
       "<style scoped>\n",
       "    .dataframe tbody tr th:only-of-type {\n",
       "        vertical-align: middle;\n",
       "    }\n",
       "\n",
       "    .dataframe tbody tr th {\n",
       "        vertical-align: top;\n",
       "    }\n",
       "\n",
       "    .dataframe thead th {\n",
       "        text-align: right;\n",
       "    }\n",
       "</style>\n",
       "<table border=\"1\" class=\"dataframe\">\n",
       "  <thead>\n",
       "    <tr style=\"text-align: right;\">\n",
       "      <th></th>\n",
       "      <th>event</th>\n",
       "      <th>eta</th>\n",
       "      <th>phi</th>\n",
       "      <th>et</th>\n",
       "      <th>position</th>\n",
       "      <th>electron</th>\n",
       "      <th>tau</th>\n",
       "    </tr>\n",
       "  </thead>\n",
       "  <tbody>\n",
       "    <tr>\n",
       "      <th>0</th>\n",
       "      <td>1</td>\n",
       "      <td>0</td>\n",
       "      <td>0</td>\n",
       "      <td>7.23932</td>\n",
       "      <td>3</td>\n",
       "      <td>0</td>\n",
       "      <td>0</td>\n",
       "    </tr>\n",
       "    <tr>\n",
       "      <th>1</th>\n",
       "      <td>1</td>\n",
       "      <td>0</td>\n",
       "      <td>1</td>\n",
       "      <td>14.78990</td>\n",
       "      <td>6</td>\n",
       "      <td>0</td>\n",
       "      <td>1</td>\n",
       "    </tr>\n",
       "    <tr>\n",
       "      <th>2</th>\n",
       "      <td>1</td>\n",
       "      <td>0</td>\n",
       "      <td>2</td>\n",
       "      <td>8.17547</td>\n",
       "      <td>4</td>\n",
       "      <td>0</td>\n",
       "      <td>1</td>\n",
       "    </tr>\n",
       "    <tr>\n",
       "      <th>3</th>\n",
       "      <td>1</td>\n",
       "      <td>0</td>\n",
       "      <td>3</td>\n",
       "      <td>6.89318</td>\n",
       "      <td>2</td>\n",
       "      <td>0</td>\n",
       "      <td>0</td>\n",
       "    </tr>\n",
       "    <tr>\n",
       "      <th>4</th>\n",
       "      <td>1</td>\n",
       "      <td>0</td>\n",
       "      <td>4</td>\n",
       "      <td>9.89150</td>\n",
       "      <td>7</td>\n",
       "      <td>0</td>\n",
       "      <td>0</td>\n",
       "    </tr>\n",
       "  </tbody>\n",
       "</table>\n",
       "</div>"
      ],
      "text/plain": [
       "   event  eta  phi        et  position  electron  tau\n",
       "0      1    0    0   7.23932         3         0    0\n",
       "1      1    0    1  14.78990         6         0    1\n",
       "2      1    0    2   8.17547         4         0    1\n",
       "3      1    0    3   6.89318         2         0    0\n",
       "4      1    0    4   9.89150         7         0    0"
      ]
     },
     "execution_count": 3,
     "metadata": {},
     "output_type": "execute_result"
    }
   ],
   "source": [
    "# View the merged data head\n",
    "event_data.head()"
   ]
  },
  {
   "cell_type": "markdown",
   "metadata": {},
   "source": [
    "**Data Dictionary**\n",
    "\n",
    "- event: Event number (Integer)\n",
    "- eta: Index of eta coordinate 0-13 (Integer)\n",
    "- phi: Index of phi coordinate, 0-17, which is also specifies the optical link (Integer)\n",
    "- et: Transverse energy deposited in the region (Float)\n",
    "- position: Position of the cluster within the region, a 4-bit number (Integer)\n",
    "- electron: Electron bit signifying that the region likely has an electron or photon deposit (Bool)\n",
    "- tau: Tau bit signifying that the region likely has a tau deposit (Bool)"
   ]
  },
  {
   "cell_type": "code",
   "execution_count": 4,
   "metadata": {},
   "outputs": [
    {
     "data": {
      "text/plain": [
       "(252, 7)"
      ]
     },
     "execution_count": 4,
     "metadata": {},
     "output_type": "execute_result"
    }
   ],
   "source": [
    "# Check the shape of the merged dataframe\n",
    "event_data.shape"
   ]
  },
  {
   "cell_type": "markdown",
   "metadata": {},
   "source": [
    "### Position values"
   ]
  },
  {
   "cell_type": "code",
   "execution_count": 5,
   "metadata": {},
   "outputs": [],
   "source": [
    "# Convert the series into a 14x18 matrix\n",
    "x_pos = np.array(event_data['position'])\n",
    "matrix_position = np.asmatrix(x_pos)\n",
    "\n",
    "# Resizing into size 14x18\n",
    "matrix_position.resize((14, 18))"
   ]
  },
  {
   "cell_type": "markdown",
   "metadata": {},
   "source": [
    "### ET values"
   ]
  },
  {
   "cell_type": "code",
   "execution_count": 7,
   "metadata": {},
   "outputs": [],
   "source": [
    "# Convert the series into a 14x18 matrix\n",
    "x_et = np.array(event_data['et'])\n",
    "matrix_et = np.asmatrix(x_et)\n",
    "\n",
    "# Resizing into size 14x18\n",
    "matrix_et.resize((14, 18))"
   ]
  },
  {
   "cell_type": "code",
   "execution_count": 8,
   "metadata": {},
   "outputs": [],
   "source": [
    "def get_matrix(event_data, column):\n",
    "    \"\"\"\n",
    "    Function to get matrix data from a series of column.\n",
    "    \n",
    "    Args:\n",
    "        event_data: Dataframe containing event data\n",
    "        column: Name of column to get the matrix for\n",
    "    Returns: \n",
    "        numpy matrix of size 14x18.\n",
    "    \"\"\"\n",
    "    # Initialize\n",
    "    x_data = np.array([])\n",
    "    \n",
    "    if column != 'index':\n",
    "        # Convert the series into a numpy matrix\n",
    "        x_data = np.array(event_data[column])\n",
    "        \n",
    "    else:\n",
    "        x_data = np.array(event_data.index.to_list())\n",
    "\n",
    "    # Convert the series into a numpy matrix\n",
    "    matrix_data = np.asmatrix(x_data)\n",
    "\n",
    "    # Resizing into size 14x18\n",
    "    matrix_data.resize((14, 18))\n",
    "    \n",
    "    return matrix_data"
   ]
  },
  {
   "cell_type": "markdown",
   "metadata": {},
   "source": [
    "- We will now get the value of Energy (ET) in all 4 regions of the 2x2 submatrix and sum them. \n",
    "- We will then find highest index of initial et in the submatrix and substitute the sum value to that region.\n",
    "- Finally, we will find the actual index of the ET region and set all others to zero.\n",
    "- Then, we will select and sort 6 data values where ET is not zero in ascending order."
   ]
  },
  {
   "cell_type": "code",
   "execution_count": 9,
   "metadata": {},
   "outputs": [],
   "source": [
    "def get_energy_sums(event_data):\n",
    "    sumenergy = {}\n",
    "    \n",
    "    # Configuring the size of sub regions\n",
    "    s = 2\n",
    "\n",
    "    # We will now get 2x2 sub matrices as blocks from the electron matrix.\n",
    "    # Reshape each matrix into a list format.\n",
    "    blocks_energy = view_as_blocks(get_matrix(event_data, 'et'), (s,s)).reshape(-1,s**2)\n",
    "\n",
    "    # We will now get 2x2 sub matrices as blocks from the index matrix.\n",
    "    # Reshape each matrix into a list format.\n",
    "    blocks_idx = view_as_blocks(get_matrix(event_data, 'index'), (s, s)).reshape(-1,s**2)\n",
    "    \n",
    "    for row, (sub, idx) in enumerate(zip(blocks_energy, blocks_idx)):\n",
    "        # Add all energies in 2x2 region\n",
    "        sum_energy = np.sum(sub)\n",
    "        # get the actual index of the highest postion of energy in the submatrix (2x2)\n",
    "        actual_idx = idx[np.argmax(sub)]\n",
    "\n",
    "        sumenergy[actual_idx] = sum_energy\n",
    "        \n",
    "    return sumenergy"
   ]
  },
  {
   "cell_type": "code",
   "execution_count": 10,
   "metadata": {},
   "outputs": [],
   "source": [
    "def select_and_sort_data(event_data):\n",
    "    \"\"\"\n",
    "    Function to sort and select limited amount of values from rows containing energy (with True signals).\n",
    "    Args:\n",
    "        event_data: Dataframe containing event data\n",
    "        signal: Type of signal data ['electron', 'tau']\n",
    "    Returns:\n",
    "        event_data_final: Dataframe containing the specified number of reduced data by selection and sorting.\n",
    "    \"\"\"\n",
    "    # Number of data rows to select\n",
    "    selection = 6\n",
    "    # Get a copy of original dataframe\n",
    "    event_data_final = event_data.copy()\n",
    "    \n",
    "    # Get list of energy and their actual indices\n",
    "    energy_index_list = get_energy_sums(event_data)\n",
    "    \n",
    "    # replace the new values of energy based on index\n",
    "    event_data_final.loc[list(energy_index_list.keys()),'et'] = list(energy_index_list.values())\n",
    "    \n",
    "    for idx in event_data_final.index.to_list():\n",
    "        # if the index is not in our prev list of energy values\n",
    "        # electron does not exist in this index\n",
    "        if idx not in energy_index_list.keys():\n",
    "            event_data_final.loc[idx, 'et']= 0\n",
    "    \n",
    "    # Get non-zero values\n",
    "    event_data_final = event_data_final[event_data_final['et']!=0]\n",
    "    \n",
    "    # Sort them and select top 6 values\n",
    "    event_data_final = event_data_final.sort_values(by='et', ascending=False)[:selection]\n",
    "    \n",
    "    return event_data_final"
   ]
  },
  {
   "cell_type": "code",
   "execution_count": 11,
   "metadata": {},
   "outputs": [
    {
     "data": {
      "text/html": [
       "<div>\n",
       "<style scoped>\n",
       "    .dataframe tbody tr th:only-of-type {\n",
       "        vertical-align: middle;\n",
       "    }\n",
       "\n",
       "    .dataframe tbody tr th {\n",
       "        vertical-align: top;\n",
       "    }\n",
       "\n",
       "    .dataframe thead th {\n",
       "        text-align: right;\n",
       "    }\n",
       "</style>\n",
       "<table border=\"1\" class=\"dataframe\">\n",
       "  <thead>\n",
       "    <tr style=\"text-align: right;\">\n",
       "      <th></th>\n",
       "      <th>event</th>\n",
       "      <th>eta</th>\n",
       "      <th>phi</th>\n",
       "      <th>et</th>\n",
       "      <th>position</th>\n",
       "      <th>electron</th>\n",
       "      <th>tau</th>\n",
       "    </tr>\n",
       "  </thead>\n",
       "  <tbody>\n",
       "    <tr>\n",
       "      <th>49</th>\n",
       "      <td>1</td>\n",
       "      <td>2</td>\n",
       "      <td>13</td>\n",
       "      <td>96.30130</td>\n",
       "      <td>4</td>\n",
       "      <td>1</td>\n",
       "      <td>1</td>\n",
       "    </tr>\n",
       "    <tr>\n",
       "      <th>218</th>\n",
       "      <td>1</td>\n",
       "      <td>12</td>\n",
       "      <td>2</td>\n",
       "      <td>55.64794</td>\n",
       "      <td>3</td>\n",
       "      <td>0</td>\n",
       "      <td>0</td>\n",
       "    </tr>\n",
       "    <tr>\n",
       "      <th>244</th>\n",
       "      <td>1</td>\n",
       "      <td>13</td>\n",
       "      <td>10</td>\n",
       "      <td>48.95422</td>\n",
       "      <td>12</td>\n",
       "      <td>0</td>\n",
       "      <td>1</td>\n",
       "    </tr>\n",
       "    <tr>\n",
       "      <th>164</th>\n",
       "      <td>1</td>\n",
       "      <td>9</td>\n",
       "      <td>2</td>\n",
       "      <td>48.60560</td>\n",
       "      <td>7</td>\n",
       "      <td>0</td>\n",
       "      <td>0</td>\n",
       "    </tr>\n",
       "    <tr>\n",
       "      <th>63</th>\n",
       "      <td>1</td>\n",
       "      <td>3</td>\n",
       "      <td>9</td>\n",
       "      <td>48.49780</td>\n",
       "      <td>15</td>\n",
       "      <td>1</td>\n",
       "      <td>1</td>\n",
       "    </tr>\n",
       "    <tr>\n",
       "      <th>168</th>\n",
       "      <td>1</td>\n",
       "      <td>9</td>\n",
       "      <td>6</td>\n",
       "      <td>47.58320</td>\n",
       "      <td>8</td>\n",
       "      <td>0</td>\n",
       "      <td>1</td>\n",
       "    </tr>\n",
       "  </tbody>\n",
       "</table>\n",
       "</div>"
      ],
      "text/plain": [
       "     event  eta  phi        et  position  electron  tau\n",
       "49       1    2   13  96.30130         4         1    1\n",
       "218      1   12    2  55.64794         3         0    0\n",
       "244      1   13   10  48.95422        12         0    1\n",
       "164      1    9    2  48.60560         7         0    0\n",
       "63       1    3    9  48.49780        15         1    1\n",
       "168      1    9    6  47.58320         8         0    1"
      ]
     },
     "execution_count": 11,
     "metadata": {},
     "output_type": "execute_result"
    }
   ],
   "source": [
    "select_and_sort_data(event_data)"
   ]
  }
 ],
 "metadata": {
  "kernelspec": {
   "display_name": "Python 3",
   "language": "python",
   "name": "python3"
  },
  "language_info": {
   "codemirror_mode": {
    "name": "ipython",
    "version": 3
   },
   "file_extension": ".py",
   "mimetype": "text/x-python",
   "name": "python",
   "nbconvert_exporter": "python",
   "pygments_lexer": "ipython3",
   "version": "3.8.5"
  }
 },
 "nbformat": 4,
 "nbformat_minor": 4
}
