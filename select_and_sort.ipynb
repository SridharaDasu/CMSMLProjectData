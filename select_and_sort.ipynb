{
 "cells": [
  {
   "cell_type": "markdown",
   "metadata": {},
   "source": [
    "### Implement selection and sorting of electrons"
   ]
  },
  {
   "cell_type": "code",
   "execution_count": 1,
   "metadata": {},
   "outputs": [],
   "source": [
    "# Importing necessary libraries\n",
    "import pandas as pd\n",
    "import matplotlib.pyplot as plt\n",
    "import numpy as np\n",
    "import seaborn as sns\n",
    "# %matplotlib inline"
   ]
  },
  {
   "cell_type": "code",
   "execution_count": 121,
   "metadata": {},
   "outputs": [],
   "source": [
    "import skimage.measure\n",
    "from skimage.util import view_as_blocks\n",
    "import logging"
   ]
  },
  {
   "cell_type": "code",
   "execution_count": 122,
   "metadata": {},
   "outputs": [],
   "source": [
    "log = logging.getLogger(__name__)"
   ]
  },
  {
   "cell_type": "markdown",
   "metadata": {},
   "source": [
    "### Importing the data\n",
    "\n",
    "We are using the Merged Electron Region data."
   ]
  },
  {
   "cell_type": "code",
   "execution_count": 2,
   "metadata": {},
   "outputs": [],
   "source": [
    "event_data = pd.read_csv(\"output_data/merged_energy_electron_data.csv\") # Electron Region Event one"
   ]
  },
  {
   "cell_type": "code",
   "execution_count": 3,
   "metadata": {},
   "outputs": [
    {
     "data": {
      "text/html": [
       "<div>\n",
       "<style scoped>\n",
       "    .dataframe tbody tr th:only-of-type {\n",
       "        vertical-align: middle;\n",
       "    }\n",
       "\n",
       "    .dataframe tbody tr th {\n",
       "        vertical-align: top;\n",
       "    }\n",
       "\n",
       "    .dataframe thead th {\n",
       "        text-align: right;\n",
       "    }\n",
       "</style>\n",
       "<table border=\"1\" class=\"dataframe\">\n",
       "  <thead>\n",
       "    <tr style=\"text-align: right;\">\n",
       "      <th></th>\n",
       "      <th>event</th>\n",
       "      <th>eta</th>\n",
       "      <th>phi</th>\n",
       "      <th>et</th>\n",
       "      <th>position</th>\n",
       "      <th>electron</th>\n",
       "      <th>tau</th>\n",
       "    </tr>\n",
       "  </thead>\n",
       "  <tbody>\n",
       "    <tr>\n",
       "      <th>0</th>\n",
       "      <td>1</td>\n",
       "      <td>0</td>\n",
       "      <td>0</td>\n",
       "      <td>7.23932</td>\n",
       "      <td>3</td>\n",
       "      <td>0</td>\n",
       "      <td>0</td>\n",
       "    </tr>\n",
       "    <tr>\n",
       "      <th>1</th>\n",
       "      <td>1</td>\n",
       "      <td>0</td>\n",
       "      <td>1</td>\n",
       "      <td>14.78990</td>\n",
       "      <td>6</td>\n",
       "      <td>0</td>\n",
       "      <td>1</td>\n",
       "    </tr>\n",
       "    <tr>\n",
       "      <th>2</th>\n",
       "      <td>1</td>\n",
       "      <td>0</td>\n",
       "      <td>2</td>\n",
       "      <td>8.17547</td>\n",
       "      <td>4</td>\n",
       "      <td>0</td>\n",
       "      <td>1</td>\n",
       "    </tr>\n",
       "    <tr>\n",
       "      <th>3</th>\n",
       "      <td>1</td>\n",
       "      <td>0</td>\n",
       "      <td>3</td>\n",
       "      <td>6.89318</td>\n",
       "      <td>2</td>\n",
       "      <td>0</td>\n",
       "      <td>0</td>\n",
       "    </tr>\n",
       "    <tr>\n",
       "      <th>4</th>\n",
       "      <td>1</td>\n",
       "      <td>0</td>\n",
       "      <td>4</td>\n",
       "      <td>9.89150</td>\n",
       "      <td>7</td>\n",
       "      <td>0</td>\n",
       "      <td>0</td>\n",
       "    </tr>\n",
       "  </tbody>\n",
       "</table>\n",
       "</div>"
      ],
      "text/plain": [
       "   event  eta  phi        et  position  electron  tau\n",
       "0      1    0    0   7.23932         3         0    0\n",
       "1      1    0    1  14.78990         6         0    1\n",
       "2      1    0    2   8.17547         4         0    1\n",
       "3      1    0    3   6.89318         2         0    0\n",
       "4      1    0    4   9.89150         7         0    0"
      ]
     },
     "execution_count": 3,
     "metadata": {},
     "output_type": "execute_result"
    }
   ],
   "source": [
    "# View the merged data head\n",
    "event_data.head()"
   ]
  },
  {
   "cell_type": "markdown",
   "metadata": {},
   "source": [
    "### ET values"
   ]
  },
  {
   "cell_type": "code",
   "execution_count": 7,
   "metadata": {},
   "outputs": [],
   "source": [
    "# Convert the series into a 14x18 matrix\n",
    "x_et = np.array(event_data['et'])\n",
    "matrix_et = np.asmatrix(x_et)\n",
    "\n",
    "# Resizing into size 14x18\n",
    "matrix_et.resize((14, 18))"
   ]
  },
  {
   "cell_type": "markdown",
   "metadata": {},
   "source": [
    "### Electron values"
   ]
  },
  {
   "cell_type": "code",
   "execution_count": 6,
   "metadata": {},
   "outputs": [],
   "source": [
    "# Convert the series into a 14x18 matrix\n",
    "x_elec = np.array(event_data['electron'])\n",
    "matrix_electron = np.asmatrix(x_elec)\n",
    "\n",
    "# Resizing into size 14x18\n",
    "matrix_electron.resize((14, 18))"
   ]
  },
  {
   "cell_type": "markdown",
   "metadata": {},
   "source": [
    "### Reduce the dimensions of the matrix using 2x2 regions\n",
    "\n",
    "We will now reduce the dimensions of our matrix from 14x18 to 7x9 using 2x2 region replacements, i.e., replacing 2x2 regions by only the highest value of ET (energy) with true electrons."
   ]
  },
  {
   "cell_type": "code",
   "execution_count": null,
   "metadata": {},
   "outputs": [],
   "source": [
    "# Configuring the size of sub regions\n",
    "s = 2"
   ]
  },
  {
   "cell_type": "markdown",
   "metadata": {},
   "source": [
    "We will now get 2x2 sub matrices as blocks from the electron matrix."
   ]
  },
  {
   "cell_type": "code",
   "execution_count": 119,
   "metadata": {},
   "outputs": [],
   "source": [
    "blocks_elec = skimage.util.view_as_blocks(matrix_electron, (s, s))"
   ]
  },
  {
   "cell_type": "markdown",
   "metadata": {},
   "source": [
    "Reshape each matrix into a list format."
   ]
  },
  {
   "cell_type": "code",
   "execution_count": 120,
   "metadata": {},
   "outputs": [],
   "source": [
    "blocks_elec = blocks_elec.reshape(-1,s**2)"
   ]
  },
  {
   "cell_type": "code",
   "execution_count": 153,
   "metadata": {},
   "outputs": [],
   "source": [
    "# Initialize empty dictionary to save row and index of energy values in matrix\n",
    "energy_dict = {}\n",
    "\n",
    "# Loop inside sub matrix of blocks\n",
    "for i, sub in enumerate(blocks_elec):\n",
    "    count = 0 # initially count is 0\n",
    "    \n",
    "    # Loop inside each element of submatrix\n",
    "    for idx, element in enumerate(sub):\n",
    "        if element == 1: # if value of electron is 1\n",
    "            log.info(\"Contains Electron in:\", idx)\n",
    "            if count < 1:\n",
    "                # add to dictionary\n",
    "                energy_dict[i] = [idx]\n",
    "            else:\n",
    "                # append to dictionary\n",
    "                energy_dict[i].append(idx)\n",
    "            # increase the count    \n",
    "            count += 1\n",
    "        else:\n",
    "            # Contains no electron True (1)\n",
    "            \n",
    "            if count == 0:\n",
    "                energy_dict[i] = ['NaN']\n",
    "            log.info(\"No electron in row\")\n",
    "            \n",
    "    # Check if count is greater than or equal to 1        \n",
    "    if count >= 1:\n",
    "        log.info(\"Energy is present in matrix:\", i)\n",
    "    else:\n",
    "        log.info(\"No energy in matrix:\", i)"
   ]
  },
  {
   "cell_type": "code",
   "execution_count": 154,
   "metadata": {},
   "outputs": [
    {
     "data": {
      "text/plain": [
       "{0: ['NaN'],\n",
       " 1: ['NaN'],\n",
       " 2: ['NaN'],\n",
       " 3: ['NaN'],\n",
       " 4: ['NaN'],\n",
       " 5: ['NaN'],\n",
       " 6: ['NaN'],\n",
       " 7: ['NaN'],\n",
       " 8: [2],\n",
       " 9: ['NaN'],\n",
       " 10: [1],\n",
       " 11: [0],\n",
       " 12: ['NaN'],\n",
       " 13: [3],\n",
       " 14: ['NaN'],\n",
       " 15: [1],\n",
       " 16: ['NaN'],\n",
       " 17: ['NaN'],\n",
       " 18: ['NaN'],\n",
       " 19: [2],\n",
       " 20: [1],\n",
       " 21: ['NaN'],\n",
       " 22: [2, 3],\n",
       " 23: ['NaN'],\n",
       " 24: [1, 2],\n",
       " 25: ['NaN'],\n",
       " 26: ['NaN'],\n",
       " 27: [1],\n",
       " 28: ['NaN'],\n",
       " 29: [3],\n",
       " 30: [3],\n",
       " 31: [2],\n",
       " 32: ['NaN'],\n",
       " 33: [1],\n",
       " 34: ['NaN'],\n",
       " 35: ['NaN'],\n",
       " 36: ['NaN'],\n",
       " 37: ['NaN'],\n",
       " 38: ['NaN'],\n",
       " 39: ['NaN'],\n",
       " 40: ['NaN'],\n",
       " 41: [1, 3],\n",
       " 42: ['NaN'],\n",
       " 43: ['NaN'],\n",
       " 44: [0],\n",
       " 45: ['NaN'],\n",
       " 46: ['NaN'],\n",
       " 47: ['NaN'],\n",
       " 48: ['NaN'],\n",
       " 49: [0, 3],\n",
       " 50: ['NaN'],\n",
       " 51: ['NaN'],\n",
       " 52: [3],\n",
       " 53: ['NaN'],\n",
       " 54: ['NaN'],\n",
       " 55: [1, 2],\n",
       " 56: ['NaN'],\n",
       " 57: [0],\n",
       " 58: ['NaN'],\n",
       " 59: ['NaN'],\n",
       " 60: ['NaN'],\n",
       " 61: ['NaN'],\n",
       " 62: [2]}"
      ]
     },
     "execution_count": 154,
     "metadata": {},
     "output_type": "execute_result"
    }
   ],
   "source": [
    "energy_dict"
   ]
  },
  {
   "cell_type": "code",
   "execution_count": 156,
   "metadata": {},
   "outputs": [],
   "source": [
    "# Get list of matrix rows with electron True\n",
    "matrices_with_energy = [k for k,v in energy_dict.items() if v != ['NaN']]"
   ]
  },
  {
   "cell_type": "markdown",
   "metadata": {},
   "source": [
    "We will now get 2x2 sub matrices as blocks from the energy (et) matrix."
   ]
  },
  {
   "cell_type": "code",
   "execution_count": 157,
   "metadata": {},
   "outputs": [],
   "source": [
    "blocks_energy = view_as_blocks(matrix_et, (s,s)).reshape(-1,s**2)"
   ]
  },
  {
   "cell_type": "code",
   "execution_count": 158,
   "metadata": {},
   "outputs": [],
   "source": [
    "final_energy = []\n",
    "\n",
    "# Loop within submatrix of 2x2 energy value blocks\n",
    "for row, sub in enumerate(blocks_energy):\n",
    "    # Check if row contains electron True values\n",
    "    if row in matrices_with_energy:\n",
    "        log.info(\"Contains energy values in row:\", row)\n",
    "        \n",
    "        # Get the value of index \n",
    "        index = np.argmax(sub[energy_dict[row]])\n",
    "        \n",
    "        # Append the tuple (max energy, index)\n",
    "        final_energy.append((sub[energy_dict[row]].max(), energy_dict[row][index]))\n",
    "    else:\n",
    "        final_energy.append((0, energy_dict[row] ))"
   ]
  },
  {
   "cell_type": "code",
   "execution_count": 159,
   "metadata": {},
   "outputs": [
    {
     "data": {
      "text/plain": [
       "[(0, ['NaN']),\n",
       " (0, ['NaN']),\n",
       " (0, ['NaN']),\n",
       " (0, ['NaN']),\n",
       " (0, ['NaN']),\n",
       " (0, ['NaN']),\n",
       " (0, ['NaN']),\n",
       " (0, ['NaN']),\n",
       " (12.8206, 2),\n",
       " (0, ['NaN']),\n",
       " (0.0, 1),\n",
       " (16.15002, 0),\n",
       " (0, ['NaN']),\n",
       " (13.3519, 3),\n",
       " (0, ['NaN']),\n",
       " (64.3284, 1),\n",
       " (0, ['NaN']),\n",
       " (0, ['NaN']),\n",
       " (0, ['NaN']),\n",
       " (8.14362, 2),\n",
       " (10.5057, 1),\n",
       " (0, ['NaN']),\n",
       " (13.4624, 2),\n",
       " (0, ['NaN']),\n",
       " (13.7001, 1),\n",
       " (0, ['NaN']),\n",
       " (0, ['NaN']),\n",
       " (11.288, 1),\n",
       " (0, ['NaN']),\n",
       " (12.3744, 3),\n",
       " (8.79125, 3),\n",
       " (9.65047, 2),\n",
       " (0, ['NaN']),\n",
       " (5.67157, 1),\n",
       " (0, ['NaN']),\n",
       " (0, ['NaN']),\n",
       " (0, ['NaN']),\n",
       " (0, ['NaN']),\n",
       " (0, ['NaN']),\n",
       " (0, ['NaN']),\n",
       " (0, ['NaN']),\n",
       " (12.0682, 3),\n",
       " (0, ['NaN']),\n",
       " (0, ['NaN']),\n",
       " (9.62609, 0),\n",
       " (0, ['NaN']),\n",
       " (0, ['NaN']),\n",
       " (0, ['NaN']),\n",
       " (0, ['NaN']),\n",
       " (11.2701, 0),\n",
       " (0, ['NaN']),\n",
       " (0, ['NaN']),\n",
       " (12.4474, 3),\n",
       " (0, ['NaN']),\n",
       " (0, ['NaN']),\n",
       " (15.3848, 1),\n",
       " (0, ['NaN']),\n",
       " (4.03492, 0),\n",
       " (0, ['NaN']),\n",
       " (0, ['NaN']),\n",
       " (0, ['NaN']),\n",
       " (0, ['NaN']),\n",
       " (12.1941, 2)]"
      ]
     },
     "execution_count": 159,
     "metadata": {},
     "output_type": "execute_result"
    }
   ],
   "source": [
    "final_energy"
   ]
  },
  {
   "cell_type": "code",
   "execution_count": 151,
   "metadata": {},
   "outputs": [
    {
     "data": {
      "text/plain": [
       "63"
      ]
     },
     "execution_count": 151,
     "metadata": {},
     "output_type": "execute_result"
    }
   ],
   "source": [
    "len(final_energy)"
   ]
  },
  {
   "cell_type": "markdown",
   "metadata": {},
   "source": [
    "Save them into a final array.\n",
    "\n",
    "Reshape them as 7x9\n",
    "\n",
    "Save their index as well\n",
    "\n",
    "sort them based on energy values into 6 electrons."
   ]
  },
  {
   "cell_type": "markdown",
   "metadata": {},
   "source": [
    "### Get 6 electrons\n",
    "\n",
    "- Sort them based on their energies"
   ]
  },
  {
   "cell_type": "markdown",
   "metadata": {},
   "source": [
    "To do: \n",
    "Get time complexity"
   ]
  }
 ],
 "metadata": {
  "kernelspec": {
   "display_name": "Python 3",
   "language": "python",
   "name": "python3"
  },
  "language_info": {
   "codemirror_mode": {
    "name": "ipython",
    "version": 3
   },
   "file_extension": ".py",
   "mimetype": "text/x-python",
   "name": "python",
   "nbconvert_exporter": "python",
   "pygments_lexer": "ipython3",
   "version": "3.8.5"
  }
 },
 "nbformat": 4,
 "nbformat_minor": 4
}
